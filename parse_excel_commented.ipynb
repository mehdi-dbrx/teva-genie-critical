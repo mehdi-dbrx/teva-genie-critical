{
 "cells": [
  {
   "cell_type": "markdown",
   "metadata": {
    "application/vnd.databricks.v1+cell": {
     "cellMetadata": {},
     "inputWidgets": {},
     "nuid": "e0bc53d1-42d6-4899-aee0-0fb1366e5242",
     "showTitle": false,
     "tableResultSettingsMap": {},
     "title": ""
    }
   },
   "source": [
    "#### Enable Auto-reload\n",
    "- Loads the autoreload extension to automatically reload modules when they change\n",
    "- Useful for development\n"
   ]
  },
  {
   "cell_type": "code",
   "execution_count": 0,
   "metadata": {
    "application/vnd.databricks.v1+cell": {
     "cellMetadata": {
      "byteLimit": 2048000,
      "rowLimit": 10000
     },
     "inputWidgets": {},
     "nuid": "71020693-c515-45f2-aba2-89c8f15d93c8",
     "showTitle": false,
     "tableResultSettingsMap": {},
     "title": ""
    }
   },
   "outputs": [],
   "source": [
    "%load_ext autoreload\n",
    "%autoreload 2"
   ]
  },
  {
   "cell_type": "markdown",
   "metadata": {
    "application/vnd.databricks.v1+cell": {
     "cellMetadata": {},
     "inputWidgets": {},
     "nuid": "63c54edb-1f56-44b0-811d-0c2863016558",
     "showTitle": false,
     "tableResultSettingsMap": {},
     "title": ""
    }
   },
   "source": [
    "#### Install Required Library\n",
    "- Installs the openpyxl library needed to read Excel files with pandas\n"
   ]
  },
  {
   "cell_type": "code",
   "execution_count": 0,
   "metadata": {
    "application/vnd.databricks.v1+cell": {
     "cellMetadata": {
      "byteLimit": 2048000,
      "rowLimit": 10000
     },
     "inputWidgets": {},
     "nuid": "af53073b-635d-4e10-9a6a-d82cf0830d8e",
     "showTitle": false,
     "tableResultSettingsMap": {},
     "title": ""
    }
   },
   "outputs": [],
   "source": [
    "pip install openpyxl"
   ]
  },
  {
   "cell_type": "markdown",
   "metadata": {
    "application/vnd.databricks.v1+cell": {
     "cellMetadata": {},
     "inputWidgets": {},
     "nuid": "c06c8da9-f9c8-4eab-87ce-ef5675d206ad",
     "showTitle": false,
     "tableResultSettingsMap": {},
     "title": ""
    }
   },
   "source": [
    "#### Define Excel Table Detection Functions\n",
    "- Creates utility functions to automatically detect and extract multiple tables from an Excel sheet\n",
    "- Finds contiguous data regions and determines table boundaries\n",
    "- Sets first row as column headers\n",
    "- Tracks visited cells to avoid duplicate extraction\n"
   ]
  },
  {
   "cell_type": "code",
   "execution_count": 0,
   "metadata": {
    "application/vnd.databricks.v1+cell": {
     "cellMetadata": {
      "byteLimit": 2048000,
      "rowLimit": 10000
     },
     "inputWidgets": {},
     "nuid": "8f2ecd64-13eb-487f-a6ee-76d28e4c2846",
     "showTitle": false,
     "tableResultSettingsMap": {},
     "title": ""
    }
   },
   "outputs": [],
   "source": [
    "import pandas as pd\n",
    "import numpy as np\n",
    "from openpyxl import load_workbook\n",
    "\n",
    "def detect_and_extract_tables(excel_file, sheet_name=0):\n",
    "    # Read the entire sheet\n",
    "    df = pd.read_excel(excel_file, sheet_name=sheet_name, header=None)\n",
    "    \n",
    "    # Replace NaN with empty strings for easier processing\n",
    "    df = df.fillna('')\n",
    "    \n",
    "    tables = []\n",
    "    visited = set()\n",
    "    \n",
    "    for row in range(len(df)):\n",
    "        for col in range(len(df.columns)):\n",
    "            if (row, col) not in visited and df.iloc[row, col] != '':\n",
    "                # Found potential table start\n",
    "                table_data, table_coords = extract_table_from_position(df, row, col, visited)\n",
    "                if len(table_data) > 1:  # Ensure it's not just a single cell\n",
    "                    tables.append(table_data)\n",
    "    \n",
    "    return tables\n",
    "\n",
    "def extract_table_from_position(df, start_row, start_col, visited):\n",
    "    # Find table boundaries by looking for contiguous data\n",
    "    max_row = start_row\n",
    "    max_col = start_col\n",
    "    \n",
    "    # Expand right to find table width\n",
    "    while max_col < len(df.columns) - 1:\n",
    "        if has_data_in_column(df, max_col + 1, start_row, len(df)):\n",
    "            max_col += 1\n",
    "        else:\n",
    "            break\n",
    "    \n",
    "    # Expand down to find table height\n",
    "    while max_row < len(df) - 1:\n",
    "        if has_data_in_row(df, max_row + 1, start_col, max_col + 1):\n",
    "            max_row += 1\n",
    "        else:\n",
    "            break\n",
    "    \n",
    "    # Extract the table\n",
    "    table_data = df.iloc[start_row:max_row+1, start_col:max_col+1]\n",
    "    \n",
    "    # Mark cells as visited\n",
    "    for r in range(start_row, max_row + 1):\n",
    "        for c in range(start_col, max_col + 1):\n",
    "            visited.add((r, c))\n",
    "    \n",
    "    # Set first row as column names\n",
    "    table_data.columns = table_data.iloc[0]\n",
    "    table_data = table_data.drop(table_data.index[0])\n",
    "\n",
    "    return table_data, (start_row, start_col, max_row, max_col)\n",
    "\n",
    "def has_data_in_column(df, col, start_row, end_row):\n",
    "    return any(df.iloc[r, col] != '' for r in range(start_row, min(end_row, len(df))))\n",
    "\n",
    "def has_data_in_row(df, row, start_col, end_col):\n",
    "    return any(df.iloc[row, c] != '' for c in range(start_col, min(end_col, len(df.columns))))\n",
    "\n"
   ]
  },
  {
   "cell_type": "markdown",
   "metadata": {
    "application/vnd.databricks.v1+cell": {
     "cellMetadata": {},
     "inputWidgets": {},
     "nuid": "fbac23ab-d132-401a-b2e4-7fdee359f84b",
     "showTitle": false,
     "tableResultSettingsMap": {},
     "title": ""
    }
   },
   "source": [
    "#### Define DataFrame Conversion Function\n",
    "- Converts extracted tables to cleaned DataFrames\n",
    "- Normalizes column names (lowercase, removes special chars)\n",
    "- Removes empty columns and auto-detects numeric columns\n",
    "- Creates PySpark DataFrames for Databricks\n"
   ]
  },
  {
   "cell_type": "code",
   "execution_count": 0,
   "metadata": {
    "application/vnd.databricks.v1+cell": {
     "cellMetadata": {
      "byteLimit": 2048000,
      "rowLimit": 10000
     },
     "collapsed": true,
     "inputWidgets": {},
     "nuid": "b0acff12-0b0c-4bb0-8813-56cc0659a435",
     "showTitle": false,
     "tableResultSettingsMap": {},
     "title": ""
    }
   },
   "outputs": [],
   "source": [
    "def tables_to_dfs(tables):\n",
    "    import re\n",
    "    tables_dfs = []\n",
    "    for i, table in enumerate(tables):\n",
    "        # Convert all columns to string to avoid type issues\n",
    "        table_str = table.astype(str)\n",
    "        table_str.columns = [re.sub(r'_+', '_', re.sub(r'[^a-zA-Z0-9]+$', '', re.sub(r'[^a-zA-Z0-9]', '_', str(col).lower().strip()))) for col in table_str.columns]\n",
    "        # Remove empty columns\n",
    "        table_str = table_str.loc[:, (table_str != '').any(axis=0)]\n",
    "        # Convert numeric columns\n",
    "        for col in table_str.columns:\n",
    "            numeric_col = pd.to_numeric(table_str[col], errors='coerce')\n",
    "            if not numeric_col.isna().all():\n",
    "                # Check if all non-null values are integers\n",
    "                if numeric_col.dropna().apply(lambda x: x == int(x)).all():\n",
    "                    table_str[col] = numeric_col.astype('Int64')  # Nullable integer (capital I)\n",
    "                else:\n",
    "                    table_str[col] = numeric_col\n",
    "        table_df = spark.createDataFrame(table_str)\n",
    "        tables_dfs.append(table_df)\n",
    "    return tables_dfs"
   ]
  },
  {
   "cell_type": "markdown",
   "metadata": {
    "application/vnd.databricks.v1+cell": {
     "cellMetadata": {},
     "inputWidgets": {},
     "nuid": "689c54fe-3e8d-4ab5-ae3b-cc141a6b5242",
     "showTitle": false,
     "tableResultSettingsMap": {},
     "title": ""
    }
   },
   "source": [
    "#### Extract Tables from Excel File\n",
    "- Reads the NHMACS/NMACS schizophrenia Excel file and extracts all tables from all sheets\n",
    "- Currently limited to first sheet with `break` statement\n"
   ]
  },
  {
   "cell_type": "code",
   "execution_count": 0,
   "metadata": {
    "application/vnd.databricks.v1+cell": {
     "cellMetadata": {
      "byteLimit": 2048000,
      "rowLimit": 10000
     },
     "collapsed": true,
     "inputWidgets": {},
     "nuid": "e8906e69-775f-4e0e-a26b-b77609c6e15a",
     "showTitle": false,
     "tableResultSettingsMap": {},
     "title": ""
    }
   },
   "outputs": [],
   "source": [
    "# Get all sheet names first\n",
    "excel_file_path = '/Volumes/mc/teva/files/YW_NHMACS_NMACS_MEPS_SCHIZ_CLEAN.xlsx'\n",
    "xl_file = pd.ExcelFile(excel_file_path)\n",
    "tables = []\n",
    "\n",
    "for sheet_name in xl_file.sheet_names:\n",
    "    sheet_tables = detect_and_extract_tables(excel_file_path, sheet_name)\n",
    "    print(sheet_name)\n",
    "    tables.extend(sheet_tables)\n",
    "    break #keep only first sheet : Report_Format"
   ]
  },
  {
   "cell_type": "markdown",
   "metadata": {
    "application/vnd.databricks.v1+cell": {
     "cellMetadata": {},
     "inputWidgets": {},
     "nuid": "e5b33ea0-17d7-47fa-8e6f-a56bff12c586",
     "showTitle": false,
     "tableResultSettingsMap": {},
     "title": ""
    }
   },
   "source": [
    "#### Convert Tables to DataFrames\n",
    "- Processes all extracted tables through the cleaning and conversion pipeline\n",
    "- Returns a list of PySpark DataFrames\n"
   ]
  },
  {
   "cell_type": "code",
   "execution_count": 0,
   "metadata": {
    "application/vnd.databricks.v1+cell": {
     "cellMetadata": {
      "byteLimit": 2048000,
      "rowLimit": 10000
     },
     "inputWidgets": {},
     "nuid": "0435ae54-c254-4df7-84c0-25851971d412",
     "showTitle": false,
     "tableResultSettingsMap": {},
     "title": ""
    }
   },
   "outputs": [],
   "source": [
    "tables_dfs = tables_to_dfs(tables)\n",
    "len(tables_dfs)"
   ]
  },
  {
   "cell_type": "markdown",
   "metadata": {
    "application/vnd.databricks.v1+cell": {
     "cellMetadata": {},
     "inputWidgets": {},
     "nuid": "155b0614-0060-4067-99f3-1e30c32eba4e",
     "showTitle": false,
     "tableResultSettingsMap": {},
     "title": ""
    }
   },
   "source": [
    "#### Display All DataFrames\n",
    "- Iterates through all converted DataFrames, displaying sample data and schema information for each table\n"
   ]
  },
  {
   "cell_type": "code",
   "execution_count": 0,
   "metadata": {
    "application/vnd.databricks.v1+cell": {
     "cellMetadata": {
      "byteLimit": 2048000,
      "rowLimit": 10000
     },
     "collapsed": true,
     "inputWidgets": {},
     "nuid": "31a1edfd-8434-489b-b988-2b69e74a9024",
     "showTitle": true,
     "tableResultSettingsMap": {
      "0": {
       "dataGridStateBlob": "{\"version\":1,\"tableState\":{\"columnPinning\":{\"left\":[\"#row_number#\"],\"right\":[]},\"columnSizing\":{},\"columnVisibility\":{}},\"settings\":{\"columns\":{}},\"syncTimestamp\":1758273455125}",
       "filterBlob": null,
       "queryPlanFiltersBlob": null,
       "tableResultIndex": 0
      },
      "1": {
       "dataGridStateBlob": "{\"version\":1,\"tableState\":{\"columnPinning\":{\"left\":[\"#row_number#\"],\"right\":[]},\"columnSizing\":{},\"columnVisibility\":{}},\"settings\":{\"columns\":{}},\"syncTimestamp\":1758273455133}",
       "filterBlob": null,
       "queryPlanFiltersBlob": null,
       "tableResultIndex": 1
      },
      "2": {
       "dataGridStateBlob": "{\"version\":1,\"tableState\":{\"columnPinning\":{\"left\":[\"#row_number#\"],\"right\":[]},\"columnSizing\":{},\"columnVisibility\":{}},\"settings\":{\"columns\":{}},\"syncTimestamp\":1758273455140}",
       "filterBlob": null,
       "queryPlanFiltersBlob": null,
       "tableResultIndex": 2
      },
      "3": {
       "dataGridStateBlob": "{\"version\":1,\"tableState\":{\"columnPinning\":{\"left\":[\"#row_number#\"],\"right\":[]},\"columnSizing\":{},\"columnVisibility\":{}},\"settings\":{\"columns\":{}},\"syncTimestamp\":1758273455144}",
       "filterBlob": null,
       "queryPlanFiltersBlob": null,
       "tableResultIndex": 3
      },
      "4": {
       "dataGridStateBlob": "{\"version\":1,\"tableState\":{\"columnPinning\":{\"left\":[\"#row_number#\"],\"right\":[]},\"columnSizing\":{},\"columnVisibility\":{}},\"settings\":{\"columns\":{}},\"syncTimestamp\":1758274972621}",
       "filterBlob": null,
       "queryPlanFiltersBlob": null,
       "tableResultIndex": 4
      }
     },
     "title": "erate"
    }
   },
   "outputs": [],
   "source": [
    "for df in tables_dfs:\n",
    "    df.display()\n",
    "    df.printSchema()"
   ]
  },
  {
   "cell_type": "markdown",
   "metadata": {
    "application/vnd.databricks.v1+cell": {
     "cellMetadata": {},
     "inputWidgets": {},
     "nuid": "1124ebc9-6e4e-4fca-b514-01cfcf86797b",
     "showTitle": false,
     "tableResultSettingsMap": {},
     "title": ""
    }
   },
   "source": [
    "#### Define Table Names\n",
    "- Creates a list of descriptive table names that will be used to save each DataFrame to the catalog\n",
    "- Names indicate: survey type (NHMACS vs NMACS), scope (national vs regional), condition (schizophrenia), and imputation status (imputed vs unimputed race/ethnicity)\n"
   ]
  },
  {
   "cell_type": "code",
   "execution_count": 0,
   "metadata": {
    "application/vnd.databricks.v1+cell": {
     "cellMetadata": {
      "byteLimit": 2048000,
      "rowLimit": 10000
     },
     "collapsed": true,
     "inputWidgets": {},
     "nuid": "3176c878-df6b-401b-829e-e3f0905f0245",
     "showTitle": false,
     "tableResultSettingsMap": {},
     "title": ""
    }
   },
   "outputs": [],
   "source": [
    "table_names = [\n",
    "    'NHMACS_national_schiz_avg_annual_freq_race_ethnic_unimputed',\n",
    "    'NMACS_national_schiz_avg_annual_freq_race_ethnic_unimputed',\n",
    "    'NHMACS_national_schiz_avg_annual_freq_race_ethnic_imputed',\n",
    "    'NMACS_national_schiz_avg_annual_freq_race_ethnic_imputed',\n",
    "    'NHMACS_regional_schiz_avg_annual_freq_race_ethnic_unimputed',\n",
    "    'NMACS_regional_schiz_avg_annual_freq_race_ethnic_unimputed',\n",
    "    'NHMACS_regional_schiz_avg_annual_freq_race_ethnic_imputed',\n",
    "    'NMACS_regional_schiz_avg_annual_freq_race_ethnic_imputed',\n",
    "    'NHMACS_national_schiz_avg_annual_freq_race_ethnic_unimputed_SAS_raw_format',\n",
    "    'NMACS_national_schiz_avg_annual_freq_race_ethnic_unimputed_SAS_raw_format',\n",
    "    'NHMACS_national_schiz_avg_annual_freq_race_ethnic_imputed_SAS_raw_format',\n",
    "    'NMACS_national_schiz_avg_annual_freq_race_ethnic_imputed_SAS_raw_format',\n",
    "    'NHMACS_regional_schiz_avg_annual_freq_race_ethnic_unimputed_SAS_raw_format',\n",
    "    'NMACS_regional_schiz_avg_annual_freq_race_ethnic_unimputed_SAS_raw_format',\n",
    "    'NHMACS_regional_schiz_avg_annual_freq_race_ethnic_imputed_SAS_raw_format',\n",
    "    'NMACS_regional_schiz_avg_annual_freq_race_ethnic_imputed_SAS_raw_format',\n",
    "]"
   ]
  },
  {
   "cell_type": "markdown",
   "metadata": {
    "application/vnd.databricks.v1+cell": {
     "cellMetadata": {},
     "inputWidgets": {},
     "nuid": "e3420615-daec-4779-b83b-0ab5fba06997",
     "showTitle": false,
     "tableResultSettingsMap": {},
     "title": ""
    }
   },
   "source": [
    "#### Save All Tables to Delta\n",
    "- Writes each DataFrame to a corresponding Delta table in the mc.teva catalog with the defined names\n"
   ]
  },
  {
   "cell_type": "code",
   "execution_count": 0,
   "metadata": {
    "application/vnd.databricks.v1+cell": {
     "cellMetadata": {
      "byteLimit": 2048000,
      "rowLimit": 10000
     },
     "inputWidgets": {},
     "nuid": "dcae8b01-d138-42b8-af24-8782d8a964c0",
     "showTitle": false,
     "tableResultSettingsMap": {},
     "title": ""
    }
   },
   "outputs": [],
   "source": [
    "for i, df in enumerate(tables_dfs):\n",
    "    df.write.format(\"delta\").mode(\"overwrite\").saveAsTable(f'mc.teva.{table_names[i]}')"
   ]
  },
  {
   "cell_type": "markdown",
   "metadata": {
    "application/vnd.databricks.v1+cell": {
     "cellMetadata": {},
     "inputWidgets": {},
     "nuid": "b2c3ac45-ff92-4202-846a-c965c2e2d69c",
     "showTitle": false,
     "tableResultSettingsMap": {},
     "title": ""
    }
   },
   "source": [
    "#### Define Clean Table Names\n",
    "- Creates a subset list containing only the final cleaned table names (excluding SAS raw format versions)\n"
   ]
  },
  {
   "cell_type": "code",
   "execution_count": 0,
   "metadata": {
    "application/vnd.databricks.v1+cell": {
     "cellMetadata": {
      "byteLimit": 2048000,
      "rowLimit": 10000
     },
     "collapsed": true,
     "inputWidgets": {},
     "nuid": "a1e0cf47-ed5c-4d20-bbe3-6430a2bffcb7",
     "showTitle": false,
     "tableResultSettingsMap": {},
     "title": ""
    }
   },
   "outputs": [],
   "source": [
    "table_names_clean = [\n",
    "    'NHMACS_national_schiz_avg_annual_freq_race_ethnic_unimputed',\n",
    "    'NMACS_national_schiz_avg_annual_freq_race_ethnic_unimputed',\n",
    "    'NHMACS_national_schiz_avg_annual_freq_race_ethnic_imputed',\n",
    "    'NMACS_national_schiz_avg_annual_freq_race_ethnic_imputed',\n",
    "    'NHMACS_regional_schiz_avg_annual_freq_race_ethnic_unimputed',\n",
    "    'NMACS_regional_schiz_avg_annual_freq_race_ethnic_unimputed',\n",
    "    'NHMACS_regional_schiz_avg_annual_freq_race_ethnic_imputed',\n",
    "    'NMACS_regional_schiz_avg_annual_freq_race_ethnic_imputed'\n",
    "]"
   ]
  },
  {
   "cell_type": "markdown",
   "metadata": {
    "application/vnd.databricks.v1+cell": {
     "cellMetadata": {},
     "inputWidgets": {},
     "nuid": "179d7b91-9f50-4a61-9384-cf95e86b8130",
     "showTitle": false,
     "tableResultSettingsMap": {},
     "title": ""
    }
   },
   "source": [
    "#### Define Raw Format Table Names\n",
    "- Creates a list of table names that were in SAS raw format (to be cleaned up/removed)\n"
   ]
  },
  {
   "cell_type": "code",
   "execution_count": 0,
   "metadata": {
    "application/vnd.databricks.v1+cell": {
     "cellMetadata": {
      "byteLimit": 2048000,
      "rowLimit": 10000
     },
     "collapsed": true,
     "inputWidgets": {},
     "nuid": "a3a5319c-4a03-4c68-8e7f-91a023233690",
     "showTitle": false,
     "tableResultSettingsMap": {},
     "title": ""
    }
   },
   "outputs": [],
   "source": [
    "table_names_raw = [\n",
    "    'NHMACS_national_schiz_avg_annual_freq_race_ethnic_unimputed_SAS_raw_format',\n",
    "    'NMACS_national_schiz_avg_annual_freq_race_ethnic_unimputed_SAS_raw_format',\n",
    "    'NHMACS_national_schiz_avg_annual_freq_race_ethnic_imputed_SAS_raw_format',\n",
    "    'NMACS_national_schiz_avg_annual_freq_race_ethnic_imputed_SAS_raw_format',\n",
    "    'NHMACS_regional_schiz_avg_annual_freq_race_ethnic_unimputed_SAS_raw_format',\n",
    "    'NMACS_regional_schiz_avg_annual_freq_race_ethnic_unimputed_SAS_raw_format',\n",
    "    'NHMACS_regional_schiz_avg_annual_freq_race_ethnic_imputed_SAS_raw_format',\n",
    "    'NMACS_regional_schiz_avg_annual_freq_race_ethnic_imputed_SAS_raw_format'\n",
    "    ]"
   ]
  },
  {
   "cell_type": "markdown",
   "metadata": {
    "application/vnd.databricks.v1+cell": {
     "cellMetadata": {},
     "inputWidgets": {},
     "nuid": "e173a971-6dbf-4dd5-8d72-cacda7e7da64",
     "showTitle": false,
     "tableResultSettingsMap": {},
     "title": ""
    }
   },
   "source": [
    "#### Drop Raw Format Tables\n",
    "- Removes the SAS raw format tables from the catalog as they're not needed for analysis\n"
   ]
  },
  {
   "cell_type": "code",
   "execution_count": 0,
   "metadata": {
    "application/vnd.databricks.v1+cell": {
     "cellMetadata": {
      "byteLimit": 2048000,
      "rowLimit": 10000
     },
     "inputWidgets": {},
     "nuid": "9f70b207-a245-465f-b7ca-275675fc697f",
     "showTitle": false,
     "tableResultSettingsMap": {},
     "title": ""
    }
   },
   "outputs": [],
   "source": [
    "for name in table_names_raw:\n",
    "    spark.sql(f\"DROP TABLE IF EXISTS mc.teva.{name}\")"
   ]
  },
  {
   "cell_type": "markdown",
   "metadata": {
    "application/vnd.databricks.v1+cell": {
     "cellMetadata": {},
     "inputWidgets": {},
     "nuid": "e75bf9eb-8811-46ef-a9af-acf1439c32b7",
     "showTitle": false,
     "tableResultSettingsMap": {},
     "title": ""
    }
   },
   "source": [
    "#### Save Table Names Reference\n",
    "- Creates a reference table storing all the clean table names for easy iteration and documentation\n"
   ]
  },
  {
   "cell_type": "code",
   "execution_count": 0,
   "metadata": {
    "application/vnd.databricks.v1+cell": {
     "cellMetadata": {
      "byteLimit": 2048000,
      "rowLimit": 10000
     },
     "inputWidgets": {},
     "nuid": "7015a980-5754-4571-b817-200da1b6ac91",
     "showTitle": false,
     "tableResultSettingsMap": {},
     "title": ""
    }
   },
   "outputs": [],
   "source": [
    "import pandas as pd\n",
    "\n",
    "table_names_df = pd.DataFrame({'table_name': table_names_clean})\n",
    "spark.createDataFrame(table_names_df).write.format(\"delta\").mode(\"overwrite\").saveAsTable(\"mc.teva.table_names\")"
   ]
  },
  {
   "cell_type": "markdown",
   "metadata": {
    "application/vnd.databricks.v1+cell": {
     "cellMetadata": {},
     "inputWidgets": {},
     "nuid": "f6a88fe7-d5ff-4142-88b4-bb58196bda8b",
     "showTitle": false,
     "tableResultSettingsMap": {},
     "title": ""
    }
   },
   "source": [
    "#### View Table Names Reference\n",
    "- Displays the reference table containing all clean table names\n"
   ]
  },
  {
   "cell_type": "code",
   "execution_count": 0,
   "metadata": {
    "application/vnd.databricks.v1+cell": {
     "cellMetadata": {
      "byteLimit": 2048000,
      "implicitDf": true,
      "rowLimit": 10000
     },
     "inputWidgets": {},
     "nuid": "a0ce7d9e-2ba6-4fb5-9405-873b71d0face",
     "showTitle": false,
     "tableResultSettingsMap": {},
     "title": ""
    }
   },
   "outputs": [],
   "source": [
    "%sql\n",
    "select * from mc.teva.table_names"
   ]
  },
  {
   "cell_type": "markdown",
   "metadata": {
    "application/vnd.databricks.v1+cell": {
     "cellMetadata": {},
     "inputWidgets": {},
     "nuid": "950d3db3-e873-451a-ad98-da9c13f26d58",
     "showTitle": false,
     "tableResultSettingsMap": {},
     "title": ""
    }
   },
   "source": [
    "#### Display All Tables (Verification)\n",
    "- Loops through all table names and displays sample data and schema for verification purposes\n"
   ]
  },
  {
   "cell_type": "code",
   "execution_count": 0,
   "metadata": {
    "application/vnd.databricks.v1+cell": {
     "cellMetadata": {
      "byteLimit": 2048000,
      "rowLimit": 10000
     },
     "inputWidgets": {},
     "nuid": "8248874b-b004-4c83-8c46-bef4ab9a2a0c",
     "showTitle": false,
     "tableResultSettingsMap": {},
     "title": ""
    }
   },
   "outputs": [],
   "source": [
    "table_names_df = spark.table(\"mc.teva.table_names\").toPandas()\n",
    "for name in table_names_df['table_name']:\n",
    "    print(name)\n",
    "    df = spark.table(f\"mc.teva.{name}\")\n",
    "    df.show(5)\n",
    "    df.printSchema()"
   ]
  },
  {
   "cell_type": "markdown",
   "metadata": {
    "application/vnd.databricks.v1+cell": {
     "cellMetadata": {},
     "inputWidgets": {},
     "nuid": "cbd7d9db-7ea9-47ef-bf05-f20ab6fe98ff",
     "showTitle": false,
     "tableResultSettingsMap": {},
     "title": ""
    }
   },
   "source": [
    "#### Build Context String for AI\n",
    "- Creates a comprehensive context string containing all table schemas and sample data\n",
    "- Used as input for AI-based documentation generation\n"
   ]
  },
  {
   "cell_type": "code",
   "execution_count": 0,
   "metadata": {
    "application/vnd.databricks.v1+cell": {
     "cellMetadata": {
      "byteLimit": 2048000,
      "rowLimit": 10000
     },
     "inputWidgets": {},
     "nuid": "47549347-0eae-4304-a4bf-c866aee26c69",
     "showTitle": false,
     "tableResultSettingsMap": {},
     "title": ""
    }
   },
   "outputs": [],
   "source": [
    "import io\n",
    "import sys\n",
    "\n",
    "context = \"\"\n",
    "table_names_df = spark.table(\"mc.teva.table_names\").toPandas()\n",
    "for name in table_names_df['table_name']:\n",
    "    context += f\"\\nmc.teva.{name}\\n\"\n",
    "    df = spark.table(f\"mc.teva.{name}\")\n",
    "    \n",
    "    # Capture show() output\n",
    "    old_stdout = sys.stdout\n",
    "    sys.stdout = buffer = io.StringIO()\n",
    "    df.show(5)\n",
    "    sys.stdout = old_stdout\n",
    "    context += buffer.getvalue()\n",
    "    \n",
    "    # Capture schema output\n",
    "    sys.stdout = buffer = io.StringIO()\n",
    "    df.printSchema()\n",
    "    sys.stdout = old_stdout\n",
    "    context += buffer.getvalue() + \"\\n\"\n",
    "\n",
    "print(context)"
   ]
  },
  {
   "cell_type": "markdown",
   "metadata": {
    "application/vnd.databricks.v1+cell": {
     "cellMetadata": {},
     "inputWidgets": {},
     "nuid": "84a5605a-f654-4d08-be10-1e7824fb1e3c",
     "showTitle": false,
     "tableResultSettingsMap": {},
     "title": ""
    }
   },
   "source": [
    "#### Install Databricks SDK\n",
    "- Installs the Databricks SDK with OpenAI integration for accessing AI models\n"
   ]
  },
  {
   "cell_type": "code",
   "execution_count": 0,
   "metadata": {
    "application/vnd.databricks.v1+cell": {
     "cellMetadata": {
      "byteLimit": 2048000,
      "rowLimit": 10000
     },
     "inputWidgets": {},
     "nuid": "816d036d-de67-4c14-b828-a242319acad9",
     "showTitle": false,
     "tableResultSettingsMap": {},
     "title": ""
    }
   },
   "outputs": [],
   "source": [
    "pip install databricks-sdk[openai]"
   ]
  },
  {
   "cell_type": "markdown",
   "metadata": {
    "application/vnd.databricks.v1+cell": {
     "cellMetadata": {},
     "inputWidgets": {},
     "nuid": "5552b478-3145-476f-8280-6acd700e91a4",
     "showTitle": false,
     "tableResultSettingsMap": {},
     "title": ""
    }
   },
   "source": [
    "#### Restart Python Runtime\n",
    "- Restarts the Python interpreter to ensure the newly installed library is properly loaded\n"
   ]
  },
  {
   "cell_type": "code",
   "execution_count": 0,
   "metadata": {
    "application/vnd.databricks.v1+cell": {
     "cellMetadata": {
      "byteLimit": 2048000,
      "rowLimit": 10000
     },
     "inputWidgets": {},
     "nuid": "8d2bca80-6f3e-4e3a-9009-d16062b9a823",
     "showTitle": false,
     "tableResultSettingsMap": {},
     "title": ""
    }
   },
   "outputs": [],
   "source": [
    "dbutils.library.restartPython()"
   ]
  },
  {
   "cell_type": "markdown",
   "metadata": {
    "application/vnd.databricks.v1+cell": {
     "cellMetadata": {},
     "inputWidgets": {},
     "nuid": "52e32495-9e3a-47d6-819f-1e00f0f9ed84",
     "showTitle": false,
     "tableResultSettingsMap": {},
     "title": ""
    }
   },
   "source": [
    "#### Generate Table Documentation with AI\n",
    "- Uses Databricks Claude Sonnet 4 to automatically generate comprehensive documentation for all tables\n",
    "- Includes explanation of acronyms (NHMACS, NMACS), complete table descriptions, and detailed column descriptions\n",
    "- Output is formatted as Python dictionary structure\n"
   ]
  },
  {
   "cell_type": "code",
   "execution_count": 0,
   "metadata": {
    "application/vnd.databricks.v1+cell": {
     "cellMetadata": {
      "byteLimit": 2048000,
      "rowLimit": 10000
     },
     "inputWidgets": {},
     "nuid": "6ed98546-e125-474d-901b-67f9ea71d00a",
     "showTitle": false,
     "tableResultSettingsMap": {},
     "title": ""
    }
   },
   "outputs": [],
   "source": [
    "from databricks.sdk import WorkspaceClient\n",
    "\n",
    "w = WorkspaceClient()\n",
    "openai_client = w.serving_endpoints.get_open_ai_client()\n",
    "\n",
    "instructions = \"\"\"\n",
    "I will provide you with a list of tables and their schemas. For each table, provide a short description for each table. \n",
    "The description should \n",
    "- Explain every Acronym used in the table name.\n",
    "- be complete and exhaustive. \n",
    "- be written in a way that is accessible to a broad audience, including those without any background. \n",
    "- NOT analyse the data. Just provide a description of the content of the table and explain what it contains\n",
    "- inside the text use ` instead of ' for quotation marks.\n",
    "ONLY OUTPUT allowed froo your part should be formatted like this: \n",
    "\n",
    "table_descriptions = [\n",
    "    {\n",
    "        \"table_name\": \"enter table name here\",\n",
    "        \"table_description\": \"enter description here\",\n",
    "        \"columns\": {\n",
    "            \"column_1_name\": \"enter column 1 description here\",\n",
    "            \"column_2_name\": \"enter column 2 description here\"\n",
    "            # etc...\n",
    "        }\n",
    "    },\n",
    "    # etc...\n",
    "]\n",
    "    \n",
    "    here are the tables and their schemas : \"\"\"\n",
    "\n",
    "response = openai_client.chat.completions.create(\n",
    "    model=\"databricks-claude-sonnet-4\",\n",
    "    messages=[\n",
    "      {\"role\": \"user\", \"content\": [\n",
    "          {\"type\": \"text\", \"text\": f\"{instructions}{context}\"},\n",
    "          ]}\n",
    "    ],\n",
    "    max_tokens=5000\n",
    ")\n",
    "\n",
    "table_descriptions = response.choices[0].message.content\n",
    "\n",
    "print(table_descriptions)"
   ]
  },
  {
   "cell_type": "markdown",
   "metadata": {
    "application/vnd.databricks.v1+cell": {
     "cellMetadata": {},
     "inputWidgets": {},
     "nuid": "3beee735-e117-4f25-b592-42004430a7d2",
     "showTitle": false,
     "tableResultSettingsMap": {},
     "title": ""
    }
   },
   "source": [
    "#### Define Table Descriptions (Manual)\n",
    "- Manually defines the complete table and column descriptions in Python dictionary format\n",
    "- Hardcoded from AI generation in previous step for reproducibility\n"
   ]
  },
  {
   "cell_type": "code",
   "execution_count": 0,
   "metadata": {
    "application/vnd.databricks.v1+cell": {
     "cellMetadata": {
      "byteLimit": 2048000,
      "rowLimit": 10000
     },
     "inputWidgets": {},
     "nuid": "aec17036-7344-49c8-a1f8-52230da4c912",
     "showTitle": false,
     "tableResultSettingsMap": {},
     "title": ""
    }
   },
   "outputs": [],
   "source": [
    "table_descriptions = [\n",
    "    {\n",
    "        \"table_name\": \"mc.teva.NHMACS_national_schiz_avg_annual_freq_race_ethnic_unimputed\",\n",
    "        \"table_description\": \"This table contains national-level statistics from the NHMACS (National Hospital Medical Care Survey) study focusing on schizophrenia patients. The data shows average annual frequency distributions by race and ethnicity categories where missing race/ethnicity data has NOT been statistically filled in (`unimputed`). `Schiz` is an abbreviation for schizophrenia, a mental health condition. The table presents weighted frequency counts, statistical measures of variability, and reliability indicators for different racial groups in the dataset.\",\n",
    "        \"columns\": {\n",
    "            \"race_unimputed\": \"The racial category of patients as originally reported in the data, without any statistical estimation for missing values. Categories include `White Only`, `Black/African American`, `Asian Only`, `Native Hawaiian/Other Pacific Islander`, and `Blank` for missing data.\",\n",
    "            \"wgtfreq\": \"Weighted frequency - the estimated number of cases in each racial category after applying statistical weights to make the sample representative of the broader population.\",\n",
    "            \"stddev\": \"Standard deviation - a measure of how much the weighted frequency values vary or spread out from the average, indicating the precision of the estimate.\",\n",
    "            \"rowpercent\": \"The percentage that each racial category represents out of the total sample, showing the distribution across different racial groups.\",\n",
    "            \"rowstderr\": \"Row standard error - a measure of uncertainty in the percentage calculation, indicating how precise the percentage estimate is.\",\n",
    "            \"flag_reliability\": \"A reliability indicator where 1 typically means the estimate meets reliability standards and 0 means it may be unreliable due to small sample size or high variability.\"\n",
    "        }\n",
    "    },\n",
    "    {\n",
    "        \"table_name\": \"mc.teva.NMACS_national_schiz_avg_annual_freq_race_ethnic_unimputed\",\n",
    "        \"table_description\": \"This table contains national-level statistics from the NMACS (National Medical Care Survey) study focusing on schizophrenia patients. Similar to the NHMACS table, this presents average annual frequency distributions by race and ethnicity categories where missing data has NOT been statistically filled in (`unimputed`). `Schiz` is an abbreviation for schizophrenia. The table shows how schizophrenia cases are distributed across different racial groups at the national level.\",\n",
    "        \"columns\": {\n",
    "            \"race_unimputed\": \"The racial category of patients as originally reported in the data, without any statistical estimation for missing values. Categories include `White Only`, `Black/African American`, `Asian Only`, `Native Hawaiian/Other Pacific Islander`, and `Blank` for missing data.\",\n",
    "            \"wgtfreq\": \"Weighted frequency - the estimated number of cases in each racial category after applying statistical weights to make the sample representative of the broader population.\",\n",
    "            \"stddev\": \"Standard deviation - a measure of how much the weighted frequency values vary or spread out from the average, indicating the precision of the estimate.\",\n",
    "            \"rowpercent\": \"The percentage that each racial category represents out of the total sample, showing the distribution across different racial groups.\",\n",
    "            \"rowstderr\": \"Row standard error - a measure of uncertainty in the percentage calculation, indicating how precise the percentage estimate is.\",\n",
    "            \"flag_reliability\": \"A reliability indicator where 1 typically means the estimate meets reliability standards and 0 means it may be unreliable due to small sample size or high variability.\"\n",
    "        }\n",
    "    },\n",
    "    {\n",
    "        \"table_name\": \"mc.teva.NHMACS_national_schiz_avg_annual_freq_race_ethnic_imputed\",\n",
    "        \"table_description\": \"This table contains national-level statistics from the NHMACS (National Hospital Medical Care Survey) study focusing on schizophrenia patients. Unlike the unimputed version, this data shows average annual frequency distributions by race and ethnicity categories where missing race/ethnicity data HAS been statistically estimated and filled in (`imputed`). `Schiz` is an abbreviation for schizophrenia. The categories combine both race and ethnicity information (such as `Non-Hispanic White` and `Hispanic`) rather than race alone.\",\n",
    "        \"columns\": {\n",
    "            \"race_ethnicity_imputed\": \"The combined race and ethnicity category where missing values have been statistically estimated and filled in. Categories include `Non-Hispanic White`, `Non-Hispanic Black`, `Hispanic`, `Non-Hispanic Other`, and `Total` for the overall sum.\",\n",
    "            \"wgtfreq\": \"Weighted frequency - the estimated number of cases in each race/ethnicity category after applying statistical weights to make the sample representative of the broader population.\",\n",
    "            \"stddev\": \"Standard deviation - a measure of how much the weighted frequency values vary or spread out from the average, indicating the precision of the estimate.\",\n",
    "            \"rowpercent\": \"The percentage that each race/ethnicity category represents out of the total sample, showing the distribution across different groups.\",\n",
    "            \"rowstderr\": \"Row standard error - a measure of uncertainty in the percentage calculation, indicating how precise the percentage estimate is.\",\n",
    "            \"flag_reliability\": \"A reliability indicator where 1 typically means the estimate meets reliability standards and 0 means it may be unreliable due to small sample size or high variability.\"\n",
    "        }\n",
    "    },\n",
    "    {\n",
    "        \"table_name\": \"mc.teva.NMACS_national_schiz_avg_annual_freq_race_ethnic_imputed\",\n",
    "        \"table_description\": \"This table contains national-level statistics from the NMACS (National Medical Care Survey) study focusing on schizophrenia patients. This version shows average annual frequency distributions by race and ethnicity categories where missing race/ethnicity data HAS been statistically estimated and filled in (`imputed`). `Schiz` is an abbreviation for schizophrenia. The data combines both race and ethnicity information to provide a more complete picture of the demographic distribution.\",\n",
    "        \"columns\": {\n",
    "            \"race_ethnicity_imputed\": \"The combined race and ethnicity category where missing values have been statistically estimated and filled in. Categories include `Non-Hispanic White`, `Non-Hispanic Black`, `Hispanic`, `Non-Hispanic Other`, and `Total` for the overall sum.\",\n",
    "            \"wgtfreq\": \"Weighted frequency - the estimated number of cases in each race/ethnicity category after applying statistical weights to make the sample representative of the broader population.\",\n",
    "            \"stddev\": \"Standard deviation - a measure of how much the weighted frequency values vary or spread out from the average, indicating the precision of the estimate.\",\n",
    "            \"rowpercent\": \"The percentage that each race/ethnicity category represents out of the total sample, showing the distribution across different groups.\",\n",
    "            \"rowstderr\": \"Row standard error - a measure of uncertainty in the percentage calculation, indicating how precise the percentage estimate is.\",\n",
    "            \"flag_reliability\": \"A reliability indicator where 1 typically means the estimate meets reliability standards and 0 means it may be unreliable due to small sample size or high variability.\"\n",
    "        }\n",
    "    },\n",
    "    {\n",
    "        \"table_name\": \"mc.teva.NHMACS_regional_schiz_avg_annual_freq_race_ethnic_unimputed\",\n",
    "        \"table_description\": \"This table contains regional-level statistics from the NHMACS (National Hospital Medical Care Survey) study focusing on schizophrenia patients. The data shows average annual frequency distributions broken down by both geographic region and race/ethnicity categories where missing race/ethnicity data has NOT been statistically filled in (`unimputed`). `Schiz` is an abbreviation for schizophrenia. This allows for comparison of schizophrenia case distributions across different regions of the country (such as Northeast, South, Midwest, West).\",\n",
    "        \"columns\": {\n",
    "            \"region\": \"The geographic region of the United States where the cases were recorded, such as `Northeast`, `South`, `Midwest`, or `West`.\",\n",
    "            \"race_unimputed\": \"The racial category of patients as originally reported in the data, without any statistical estimation for missing values. Categories include `White Only`, `Black/African American`, `Asian Only`, `Native Hawaiian/Other Pacific Islander`, and `Blank` for missing data.\",\n",
    "            \"wgtfreq\": \"Weighted frequency - the estimated number of cases in each region-race combination after applying statistical weights to make the sample representative of the broader population.\",\n",
    "            \"stddev\": \"Standard deviation - a measure of how much the weighted frequency values vary or spread out from the average, indicating the precision of the estimate.\",\n",
    "            \"rowpercent\": \"The percentage that each race category represents within that specific region, showing the racial distribution within each geographic area.\",\n",
    "            \"rowstderr\": \"Row standard error - a measure of uncertainty in the percentage calculation, indicating how precise the percentage estimate is.\",\n",
    "            \"flag_reliability\": \"A reliability indicator where 1 typically means the estimate meets reliability standards and 0 means it may be unreliable due to small sample size or high variability.\"\n",
    "        }\n",
    "    },\n",
    "    {\n",
    "        \"table_name\": \"mc.teva.NMACS_regional_schiz_avg_annual_freq_race_ethnic_unimputed\",\n",
    "        \"table_description\": \"This table contains regional-level statistics from the NMACS (National Medical Care Survey) study focusing on schizophrenia patients. The data shows average annual frequency distributions broken down by both geographic region and race/ethnicity categories where missing race/ethnicity data has NOT been statistically filled in (`unimputed`). `Schiz` is an abbreviation for schizophrenia. This provides insight into how schizophrenia cases are distributed across different racial groups within specific regions of the country.\",\n",
    "        \"columns\": {\n",
    "            \"region\": \"The geographic region of the United States where the cases were recorded, such as `Northeast`, `South`, `Midwest`, or `West`.\",\n",
    "            \"race_unimputed\": \"The racial category of patients as originally reported in the data, without any statistical estimation for missing values. Categories include `White Only`, `Black/African American`, `Asian Only`, `Native Hawaiian/Other Pacific Islander`, and `Blank` for missing data.\",\n",
    "            \"wgtfreq\": \"Weighted frequency - the estimated number of cases in each region-race combination after applying statistical weights to make the sample representative of the broader population.\",\n",
    "            \"stddev\": \"Standard deviation - a measure of how much the weighted frequency values vary or spread out from the average, indicating the precision of the estimate.\",\n",
    "            \"rowpercent\": \"The percentage that each race category represents within that specific region, showing the racial distribution within each geographic area.\",\n",
    "            \"rowstderr\": \"Row standard error - a measure of uncertainty in the percentage calculation, indicating how precise the percentage estimate is.\",\n",
    "            \"flag_reliability\": \"A reliability indicator where 1 typically means the estimate meets reliability standards and 0 means it may be unreliable due to small sample size or high variability.\"\n",
    "        }\n",
    "    },\n",
    "    {\n",
    "        \"table_name\": \"mc.teva.NHMACS_regional_schiz_avg_annual_freq_race_ethnic_imputed\",\n",
    "        \"table_description\": \"This table contains regional-level statistics from the NHMACS (National Hospital Medical Care Survey) study focusing on schizophrenia patients. The data shows average annual frequency distributions broken down by both geographic region and race/ethnicity categories where missing race/ethnicity data HAS been statistically estimated and filled in (`imputed`). `Schiz` is an abbreviation for schizophrenia. This version provides a more complete demographic picture by combining race and ethnicity information and filling in missing data statistically.\",\n",
    "        \"columns\": {\n",
    "            \"region\": \"The geographic region of the United States where the cases were recorded, such as `Northeast`, `South`, `Midwest`, or `West`.\",\n",
    "            \"race_ethnicity_imputed\": \"The combined race and ethnicity category where missing values have been statistically estimated and filled in. Categories include `Non-Hispanic White`, `Non-Hispanic Black`, `Hispanic`, `Non-Hispanic Other`, and `Total` for the regional sum.\",\n",
    "            \"wgtfreq\": \"Weighted frequency - the estimated number of cases in each region-race/ethnicity combination after applying statistical weights to make the sample representative of the broader population.\",\n",
    "            \"stddev\": \"Standard deviation - a measure of how much the weighted frequency values vary or spread out from the average, indicating the precision of the estimate.\",\n",
    "            \"rowpercent\": \"The percentage that each race/ethnicity category represents within that specific region, showing the demographic distribution within each geographic area.\",\n",
    "            \"rowstderr\": \"Row standard error - a measure of uncertainty in the percentage calculation, indicating how precise the percentage estimate is.\",\n",
    "            \"flag_reliability\": \"A reliability indicator where 1 typically means the estimate meets reliability standards and 0 means it may be unreliable due to small sample size or high variability.\"\n",
    "        }\n",
    "    },\n",
    "    {\n",
    "        \"table_name\": \"mc.teva.NMACS_regional_schiz_avg_annual_freq_race_ethnic_imputed\",\n",
    "        \"table_description\": \"This table contains regional-level statistics from the NMACS (National Medical Care Survey) study focusing on schizophrenia patients. The data shows average annual frequency distributions broken down by both geographic region and race/ethnicity categories where missing race/ethnicity data HAS been statistically estimated and filled in (`imputed`). `Schiz` is an abbreviation for schizophrenia. This allows for comprehensive analysis of schizophrenia case patterns across different regions and demographic groups with more complete data coverage.\",\n",
    "        \"columns\": {\n",
    "            \"region\": \"The geographic region of the United States where the cases were recorded, such as `Northeast`, `South`, `Midwest`, or `West`.\",\n",
    "            \"race_ethnicity_imputed\": \"The combined race and ethnicity category where missing values have been statistically estimated and filled in. Categories include `Non-Hispanic White`, `Non-Hispanic Black`, `Hispanic`, `Non-Hispanic Other`, and `Total` for the regional sum.\",\n",
    "            \"wgtfreq\": \"Weighted frequency - the estimated number of cases in each region-race/ethnicity combination after applying statistical weights to make the sample representative of the broader population.\",\n",
    "            \"stddev\": \"Standard deviation - a measure of how much the weighted frequency values vary or spread out from the average, indicating the precision of the estimate.\",\n",
    "            \"rowpercent\": \"The percentage that each race/ethnicity category represents within that specific region, showing the demographic distribution within each geographic area.\",\n",
    "            \"rowstderr\": \"Row standard error - a measure of uncertainty in the percentage calculation, indicating how precise the percentage estimate is.\",\n",
    "            \"flag_reliability\": \"A reliability indicator where 1 typically means the estimate meets reliability standards and 0 means it may be unreliable due to small sample size or high variability.\"\n",
    "        }\n",
    "    }\n",
    "]"
   ]
  },
  {
   "cell_type": "markdown",
   "metadata": {
    "application/vnd.databricks.v1+cell": {
     "cellMetadata": {},
     "inputWidgets": {},
     "nuid": "a6b5cf5a-d333-45b1-80cb-955eb5f11ea4",
     "showTitle": false,
     "tableResultSettingsMap": {},
     "title": ""
    }
   },
   "source": [
    "#### Apply Documentation to Tables\n",
    "- Iterates through all table descriptions and applies them to the actual Delta tables using SQL COMMENT statements\n",
    "- Adds both table-level and column-level documentation\n"
   ]
  },
  {
   "cell_type": "code",
   "execution_count": 0,
   "metadata": {
    "application/vnd.databricks.v1+cell": {
     "cellMetadata": {
      "byteLimit": 2048000,
      "rowLimit": 10000
     },
     "inputWidgets": {},
     "nuid": "811e3204-df05-4325-af27-994c896a4ddb",
     "showTitle": false,
     "tableResultSettingsMap": {},
     "title": ""
    }
   },
   "outputs": [],
   "source": [
    "for table in table_descriptions:\n",
    "    table_name = table[\"table_name\"]\n",
    "    table_desc = table[\"table_description\"]\n",
    "\n",
    "    spark.sql(f\"COMMENT ON TABLE {table_name} IS '{table_desc}'\")\n",
    "\n",
    "    for col_name, col_desc in table[\"columns\"].items():\n",
    "        spark.sql(f\"COMMENT ON COLUMN {table_name}.{col_name} IS '{col_desc}'\")"
   ]
  }
 ],
 "metadata": {
  "application/vnd.databricks.v1+notebook": {
   "computePreferences": {
    "hardware": {
     "accelerator": null,
     "gpuPoolId": null,
     "memory": null
    }
   },
   "dashboards": [],
   "environmentMetadata": {
    "base_environment": "",
    "environment_version": "3"
   },
   "inputWidgetPreferences": null,
   "language": "python",
   "notebookMetadata": {
    "mostRecentlyExecutedCommandWithImplicitDF": {
     "commandId": 6506409081308070,
     "dataframes": [
      "_sqldf"
     ]
    },
    "pythonIndentUnit": 2
   },
   "notebookName": "parse_excel_commented",
   "widgets": {}
  },
  "language_info": {
   "name": "python"
  }
 },
 "nbformat": 4,
 "nbformat_minor": 0
}
