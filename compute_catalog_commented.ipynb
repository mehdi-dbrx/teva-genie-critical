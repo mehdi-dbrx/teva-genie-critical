{
 "cells": [
  {
   "cell_type": "markdown",
   "metadata": {
    "application/vnd.databricks.v1+cell": {
     "cellMetadata": {},
     "inputWidgets": {},
     "nuid": "59d69c7f-b5d7-4d1c-873b-aebf72a144de",
     "showTitle": false,
     "tableResultSettingsMap": {},
     "title": ""
    }
   },
   "source": [
    "#### Define Critical Words List\n",
    "- Creates a list of sensitive column names that may contain personally identifiable information (PII) or require special access controls\n",
    "- Includes privilege-related fields, catalog metadata, and security-sensitive column names\n"
   ]
  },
  {
   "cell_type": "code",
   "execution_count": 0,
   "metadata": {
    "application/vnd.databricks.v1+cell": {
     "cellMetadata": {
      "byteLimit": 2048000,
      "rowLimit": 10000
     },
     "inputWidgets": {},
     "nuid": "4f352448-fc67-4d32-a65b-e19d95cb912f",
     "showTitle": false,
     "tableResultSettingsMap": {},
     "title": ""
    }
   },
   "outputs": [],
   "source": [
    "critical_words =[\n",
    "\"grantor\",\n",
    "\"grantee\",\n",
    "\"catalog_name\",\n",
    "\"privilege_type\",\n",
    "\"is_grantable\",\n",
    "\"inherited_from\",\n",
    "\"catalog_name\",\n",
    "\"tag_name\",\n",
    "\"tag_value\",\n",
    "\"catalog_name\",\n",
    "\"catalog_owner\",\n",
    "\"comment\",\n",
    "\"created\",\n",
    "\"created_by\",\n",
    "\"last_altered\",\n",
    "\"last_altered_by\",\n",
    "\"constraint_catalog\",\n",
    "\"constraint_schema\",\n",
    "\"constraint_name\",\n",
    "\"check_clause\",\n",
    "\"sql_path\",\n",
    "\"comment\",\n",
    "\"table_catalog\",\n",
    "\"table_schema\",\n",
    "\"table_name\",\n",
    "\"column_name\",\n",
    "\"mask_name\",\n",
    "\"using_\",\n",
    "\"catalog_name\",\n",
    "\"schema_name\",\n",
    "\"table_name\",\n",
    "\"column_name\"\n",
    "]"
   ]
  },
  {
   "cell_type": "markdown",
   "metadata": {
    "application/vnd.databricks.v1+cell": {
     "cellMetadata": {},
     "inputWidgets": {},
     "nuid": "f3849d1a-7029-4d7a-b7b1-a8609f9eb7a4",
     "showTitle": false,
     "tableResultSettingsMap": {},
     "title": ""
    }
   },
   "source": [
    "#### Export Critical Words to JSON\n",
    "- Saves the critical words list to a JSON file in the volume for use in subsequent AI-based analysis queries\n"
   ]
  },
  {
   "cell_type": "code",
   "execution_count": 0,
   "metadata": {
    "application/vnd.databricks.v1+cell": {
     "cellMetadata": {
      "byteLimit": 2048000,
      "rowLimit": 10000
     },
     "inputWidgets": {},
     "nuid": "46772fe0-ea9a-4fab-a5c4-c4bc439911e7",
     "showTitle": false,
     "tableResultSettingsMap": {},
     "title": ""
    }
   },
   "outputs": [],
   "source": [
    "import json\n",
    "\n",
    "critical_words_path = '/Volumes/mc/teva/files/critical_words.json'\n",
    "\n",
    "with open(critical_words_path, 'w') as f:\n",
    "    f.write(json.dumps(critical_words))"
   ]
  },
  {
   "cell_type": "markdown",
   "metadata": {
    "application/vnd.databricks.v1+cell": {
     "cellMetadata": {},
     "inputWidgets": {},
     "nuid": "c0ecf5c2-3c67-4b87-9cdc-d8251e9ac1f9",
     "showTitle": false,
     "tableResultSettingsMap": {},
     "title": ""
    }
   },
   "source": [
    "#### Scan All Catalogs, Databases, Tables and Columns\n",
    "- Iterates through the first 10 catalogs and extracts the complete hierarchy of all databases, tables, and columns\n",
    "- Excludes system objects starting with underscore\n",
    "- Creates a DataFrame with the full lineage: catalog > database > table > column\n"
   ]
  },
  {
   "cell_type": "code",
   "execution_count": 0,
   "metadata": {
    "application/vnd.databricks.v1+cell": {
     "cellMetadata": {
      "byteLimit": 2048000,
      "rowLimit": 10000
     },
     "inputWidgets": {},
     "nuid": "497fd06a-67cd-4dc9-8ab2-9de2df87caea",
     "showTitle": false,
     "tableResultSettingsMap": {},
     "title": ""
    }
   },
   "outputs": [],
   "source": [
    "from pyspark.sql import SparkSession\n",
    "\n",
    "spark = SparkSession.builder.getOrCreate()\n",
    "\n",
    "# Get first 5 catalogs\n",
    "catalogs_df = spark.sql(\"SHOW CATALOGS\")\n",
    "catalogs = [row.catalog for row in catalogs_df.limit(10).collect() if not row.catalog.startswith('_')]\n",
    "\n",
    "rows = []\n",
    "\n",
    "for catalog in catalogs:\n",
    "    try:\n",
    "        # Switch catalog\n",
    "        spark.sql(f\"USE CATALOG {catalog}\")\n",
    "        \n",
    "        # Get all databases in this catalog\n",
    "        databases_df = spark.sql(\"SHOW DATABASES\")\n",
    "        for db_row in databases_df.collect():\n",
    "            db = db_row.databaseName\n",
    "            \n",
    "            if db.startswith('_'):\n",
    "                continue\n",
    "            \n",
    "            try:\n",
    "                # Switch database\n",
    "                spark.sql(f\"USE {db}\")\n",
    "                \n",
    "                # Get all tables\n",
    "                tables_df = spark.sql(\"SHOW TABLES\")\n",
    "                for tbl_row in tables_df.collect():\n",
    "                    tbl = tbl_row.tableName\n",
    "                    \n",
    "                    if tbl.startswith('_'):\n",
    "                        continue\n",
    "                    \n",
    "                    # Get columns for table\n",
    "                    cols_df = spark.sql(f\"DESCRIBE {tbl}\")\n",
    "                    for col_row in cols_df.collect():\n",
    "                        if not col_row.col_name.startswith('_'):\n",
    "                            rows.append((catalog, db, tbl, col_row.col_name))\n",
    "                        \n",
    "            except Exception as e:\n",
    "                print(f\"Skipping database {catalog}.{db}\")\n",
    "                continue\n",
    "                \n",
    "    except Exception as e:\n",
    "        print(f\"Skipping catalog {catalog}\")\n",
    "        continue\n",
    "\n",
    "# Create DataFrame\n",
    "columns = [\"catalog\", \"database\", \"table\", \"column\"]\n",
    "df = spark.createDataFrame(rows, columns)\n",
    "df.display()\n"
   ]
  },
  {
   "cell_type": "markdown",
   "metadata": {
    "application/vnd.databricks.v1+cell": {
     "cellMetadata": {},
     "inputWidgets": {},
     "nuid": "acd732a4-094c-4506-a856-8c62be679631",
     "showTitle": false,
     "tableResultSettingsMap": {},
     "title": ""
    }
   },
   "source": [
    "#### Save Column Inventory to Table\n",
    "- Writes the complete column inventory DataFrame to a Delta table for persistent storage and further analysis\n"
   ]
  },
  {
   "cell_type": "code",
   "execution_count": 0,
   "metadata": {
    "application/vnd.databricks.v1+cell": {
     "cellMetadata": {
      "byteLimit": 2048000,
      "rowLimit": 10000
     },
     "inputWidgets": {},
     "nuid": "3ea75763-b63f-4730-b82d-89ddd3304ab6",
     "showTitle": false,
     "tableResultSettingsMap": {},
     "title": ""
    }
   },
   "outputs": [],
   "source": [
    "df.write.mode(\"overwrite\").saveAsTable(\"mc.db.columns\")"
   ]
  },
  {
   "cell_type": "markdown",
   "metadata": {
    "application/vnd.databricks.v1+cell": {
     "cellMetadata": {},
     "inputWidgets": {},
     "nuid": "2aec8292-3d1a-4e73-9f4b-80175ba51d69",
     "showTitle": false,
     "tableResultSettingsMap": {},
     "title": ""
    }
   },
   "source": [
    "#### AI-Based Critical Score Assessment (Decimal Score)\n",
    "- Uses AI to analyze the first 100 column names and assign a decimal score (0-1) indicating how closely each column name relates to the critical words list\n",
    "- Higher scores indicate stronger matches to sensitive data patterns\n"
   ]
  },
  {
   "cell_type": "code",
   "execution_count": 0,
   "metadata": {
    "application/vnd.databricks.v1+cell": {
     "cellMetadata": {
      "byteLimit": 2048000,
      "implicitDf": true,
      "rowLimit": 10000
     },
     "inputWidgets": {},
     "nuid": "dd7bc05f-e73f-40f5-8be4-4a65e5018fcb",
     "showTitle": false,
     "tableResultSettingsMap": {},
     "title": ""
    }
   },
   "outputs": [],
   "source": [
    "%sql\n",
    "WITH critical_words AS (\n",
    "      SELECT value as critical_words\n",
    "      FROM read_files('/Volumes/mc/teva/files/critical_words.json', format => 'text')\n",
    "    )\n",
    "SELECT column, ai_query(\n",
    "    \"databricks-claude-sonnet-4\",\n",
    "    \"column name :\" || column || \n",
    "    \"return a DECIMAL SCORE between  0 and 1 the column name relates to any of the following words :\" || critical_words || \n",
    "    \"Only output Allowed is DECIMAL, nothing else. Do not comment, When in doubt output\"\n",
    ") AS critical_score\n",
    "FROM mc.db.columns, critical_words LIMIT 100;"
   ]
  },
  {
   "cell_type": "markdown",
   "metadata": {
    "application/vnd.databricks.v1+cell": {
     "cellMetadata": {},
     "inputWidgets": {},
     "nuid": "f5d08962-a8f7-4e88-85eb-54b3fa425b00",
     "showTitle": false,
     "tableResultSettingsMap": {},
     "title": ""
    }
   },
   "source": [
    "#### AI-Based Critical Word Matching (Boolean + Match)\n",
    "- Uses AI to analyze the first 10 column names and return TRUE/FALSE plus the specific critical word that matched\n",
    "- Output format is JSON: {true;critical_word} or FALSE\n"
   ]
  },
  {
   "cell_type": "code",
   "execution_count": 0,
   "metadata": {
    "application/vnd.databricks.v1+cell": {
     "cellMetadata": {
      "byteLimit": 2048000,
      "implicitDf": true,
      "rowLimit": 10000
     },
     "inputWidgets": {},
     "nuid": "e721e9b0-00f0-4c1a-82e9-f80c05be1718",
     "showTitle": false,
     "tableResultSettingsMap": {},
     "title": ""
    }
   },
   "outputs": [],
   "source": [
    "%sql\n",
    "WITH critical_words AS (\n",
    "      SELECT value as critical_words\n",
    "      FROM read_files('/Volumes/mc/teva/files/critical_words.json', format => 'text')\n",
    "    )\n",
    "SELECT column, ai_query(\n",
    "    \"databricks-claude-sonnet-4\",\n",
    "    \"column name :\" || column || \n",
    "    \"return TRUE if the column name relates to any of the following words :\" || critical_words || \n",
    "    \"Only output Allowed is TRUE or FALSE + THE Critical Word that was an actual match , nothing else Do not comment, When in doubt output FALSE\"\n",
    "    \"in json format example {true;critical_word} ONLY\"\n",
    ") AS critical\n",
    "FROM mc.db.columns, critical_words LIMIT 10;"
   ]
  },
  {
   "cell_type": "markdown",
   "metadata": {
    "application/vnd.databricks.v1+cell": {
     "cellMetadata": {},
     "inputWidgets": {},
     "nuid": "e3df26d5-b208-449c-82b6-a2898362a9c5",
     "showTitle": false,
     "tableResultSettingsMap": {},
     "title": ""
    }
   },
   "source": [
    "#### AI-Based PII Detection\n",
    "- Uses AI to analyze the first 100 column names and determine if they might contain Personally Identifiable Information (PII)\n",
    "- Returns TRUE/FALSE for each column based on AI assessment\n"
   ]
  },
  {
   "cell_type": "code",
   "execution_count": 0,
   "metadata": {
    "application/vnd.databricks.v1+cell": {
     "cellMetadata": {
      "byteLimit": 2048000,
      "implicitDf": true,
      "rowLimit": 10000
     },
     "inputWidgets": {},
     "nuid": "6e09f14f-cd8f-49fa-9c0e-7d35d4498793",
     "showTitle": false,
     "tableResultSettingsMap": {},
     "title": ""
    }
   },
   "outputs": [],
   "source": [
    "%sql\n",
    "WITH critical_words AS (\n",
    "      SELECT value as critical_words\n",
    "      FROM read_files('/Volumes/mc/teva/files/critical_words.json', format => 'text')\n",
    "    )\n",
    "SELECT column, ai_query(\n",
    "    \"databricks-claude-sonnet-4\",\n",
    "    \"column name :\" || column || \n",
    "    \"return TRUE if the column name might contain PII\"  \n",
    "    \"Only output Allowed is TRUE or FALSE, nothing else. Do not comment, When in doubt output FALSE\"\n",
    ") AS PII\n",
    "FROM mc.db.columns, critical_words LIMIT 100;"
   ]
  }
 ],
 "metadata": {
  "application/vnd.databricks.v1+notebook": {
   "computePreferences": {
    "hardware": {
     "accelerator": null,
     "gpuPoolId": null,
     "memory": null
    }
   },
   "dashboards": [],
   "environmentMetadata": {
    "base_environment": "",
    "environment_version": "3"
   },
   "inputWidgetPreferences": null,
   "language": "python",
   "notebookMetadata": {
    "mostRecentlyExecutedCommandWithImplicitDF": {
     "commandId": 7040052326830520,
     "dataframes": [
      "_sqldf"
     ]
    },
    "pythonIndentUnit": 2
   },
   "notebookName": "compute_catalog_commented",
   "widgets": {}
  },
  "language_info": {
   "name": "python"
  }
 },
 "nbformat": 4,
 "nbformat_minor": 0
}
