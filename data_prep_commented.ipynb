{
 "cells": [
  {
   "cell_type": "markdown",
   "metadata": {
    "application/vnd.databricks.v1+cell": {
     "cellMetadata": {},
     "inputWidgets": {},
     "nuid": "ecc2c5a2-0924-4968-8b09-514c4ac18b4f",
     "showTitle": false,
     "tableResultSettingsMap": {},
     "title": ""
    }
   },
   "source": [
    "#### NAMCS Schema Documentation\n",
    "- This section displays the mapping between research questions and relevant database columns\n",
    "- Followed by the complete JSON schema definition for the NAMCS (National Ambulatory Medical Care Survey) synthetic data structure\n"
   ]
  },
  {
   "cell_type": "markdown",
   "metadata": {
    "application/vnd.databricks.v1+cell": {
     "cellMetadata": {},
     "inputWidgets": {},
     "nuid": "1f9b3a38-5735-43e6-9ed9-c707de7b1924",
     "showTitle": false,
     "tableResultSettingsMap": {},
     "title": ""
    }
   },
   "source": [
    "| Question                                                                 | Relevant Columns                                                                                                                                   |\n",
    "|--------------------------------------------------------------------------|---------------------------------------------------------------------------------------------------------------------------------------------------|\n",
    "| Who is visiting office-based physicians                                   | Patient_ID, Patient_Age, Patient_Sex, Patient_Race, Patient_Ethnicity, Marital_Status, Insurance_Type                                               |\n",
    "| Why they are coming (chief complaints)                                    | Chief_Complaint                                                                                                                                    |\n",
    "| What diagnoses and treatments they receive                               | Diagnosis_Code_Primary, Diagnosis_Code_Secondary, Diagnosis_Code_Tertiary, Diagnosis_Status, Procedure_Code, Procedure_Description, Medication_*    |\n",
    "| How physician practices differ                                            | Facility_ID, Physician_Specialty, Insurance_Type, Diagnosis_Code_Primary, Procedure_Code, Medication_Class                                          |\n",
    "| Utilization analysis                                                      | Visit_ID, Visit_DateTime, Facility_ID, Weight_Variable, Stratum, PSU                                                                               |\n",
    "| Prescribing trends                                                        | Medication_Name, Medication_Code, Medication_Class, Medication_Count, Visit_DateTime, Physician_Specialty, Insurance_Type                          |\n",
    "| Health services research                                                  | All columns (esp. Patient demographics, Physician_Specialty, Facility_ID, Visit outcomes, Weight_Variable)                                         |\n",
    "| **3.1. Demographics & Visit Characteristics**                             |              |                                                                                                                                                   |\n",
    "| Age, sex, race/ethnicity distributions of patients                        | Patient_Age, Patient_Sex, Patient_Race, Patient_Ethnicity, Weight_Variable                                                                         |\n",
    "| Insurance types by patient demographics                                   | Insurance_Type, Patient_Age, Patient_Sex, Patient_Race, Patient_Ethnicity, Weight_Variable                                                          |\n",
    "| **3.2. Conditions & Diagnoses**                                           |              |                                                                                                                                                   |\n",
    "| Most frequent primary diagnoses                                           | Diagnosis_Code_Primary, Weight_Variable                                                                                                            |\n",
    "| Chronic migraine visits annually in U.S.                                  | Diagnosis_Code_Primary (filter ICD-10 for migraine), Visit_DateTime, Weight_Variable                                                                |\n",
    "| **3.3. Treatments, Medications & Prescribing Patterns**                   |              |                                                                                                                                                   |\n",
    "| Most commonly prescribed medications                                      | Medication_Name, Medication_Code, Medication_Class, Weight_Variable                                                                                |\n",
    "| Frequency of opioid, antibiotic, or antidepressant prescriptions over time| Medication_Class, Medication_Name, Visit_DateTime, Weight_Variable                                                                                |\n",
    "| Prescribing variation by specialty, age, or insurance type                | Physician_Specialty, Medication_Class, Medication_Name, Patient_Age, Insurance_Type, Weight_Variable                                               |"
   ]
  },
  {
   "cell_type": "markdown",
   "metadata": {
    "application/vnd.databricks.v1+cell": {
     "cellMetadata": {},
     "inputWidgets": {},
     "nuid": "a21c4d94-3ebd-4dd8-8da5-708139d06292",
     "showTitle": false,
     "tableResultSettingsMap": {},
     "title": ""
    }
   },
   "source": [
    "#### Define NAMCS Schema in Python Dictionary\n",
    "- Creates a comprehensive Python dictionary containing all field definitions, descriptions, possible values, and examples for the NAMCS synthetic data generation\n"
   ]
  },
  {
   "cell_type": "code",
   "execution_count": 0,
   "metadata": {
    "application/vnd.databricks.v1+cell": {
     "cellMetadata": {
      "byteLimit": 2048000,
      "rowLimit": 10000
     },
     "inputWidgets": {},
     "nuid": "42b5478a-a740-4ee9-a93b-58357cd99713",
     "showTitle": false,
     "tableResultSettingsMap": {},
     "title": ""
    }
   },
   "outputs": [],
   "source": [
    "namcs_schema_json = {\n",
    "    \"Visit_ID\": {\"description\": \"Unique identifier for each sampled patient visit\"},\n",
    "    \"Visit_DateTime\": {\"description\": \"Date and time of visit in YYYY-MM-DD HH:MM format\"},\n",
    "    \"Facility_ID\": {\"description\": \"Identifier of the health center / physician practice. from the list.\",\n",
    "                    \"example_values\":[\"FAC-1000\"]},\n",
    "    \"Physician_Specialty\": {\"description\": \"Specialty of the physician providing care. realistic specialties.\",\n",
    "                             \"example_values\":[\"Family Medicine\",\"Internal Medicine\",\"Pediatrics\",\"Psychiatry\",\n",
    "                                               \"Dermatology\",\"Cardiology\",\"Endocrinology\",\"Neurology\",\n",
    "                                               \"Gastroenterology\",\"Orthopedics\",\"Ophthalmology\",\"ENT\",\n",
    "                                               \"Urology\",\"Pulmonology\",\"Rheumatology\",\"Oncology\",\n",
    "                                               \"Allergy/Immunology\",\"Emergency Medicine\",\"Physical Medicine & Rehab\",\n",
    "                                               \"Obstetrics & Gynecology\",\"Nephrology\",\"Infectious Disease\"]},\n",
    "    \"Patient_ID\": {\"description\": \"Unique patient identifier (within sample)\"},\n",
    "    \"Patient_Age\": {\"description\": \"Age of patient. Randomly pick a value between 0 and 120.\", \"range\":[0,120]},\n",
    "    \"Patient_Sex\": {\"description\": \"Sex of patient.\",\"possible_values\":[\"Male\",\"Female\",\"Other\"]},\n",
    "    \"Patient_Race\": {\"description\": \"Race of patient. Choose exactly one item from the list, each item equally likely. \",\n",
    "                     \"possible_values\":[\"White\",\"Black\",\"Asian\",\"Native American\",\"Pacific Islander\",\"Other\"]},\n",
    "    \"Patient_Ethnicity\": {\"description\": \"Ethnicity of patient. Choose exactly one item from the list, each item equally likely. realistic ethnicities.\", \n",
    "                          \"possible_values\":[\"Hispanic\",\"Non-Hispanic\",\"Other\"]},\n",
    "    \"Marital_Status\": {\"description\": \"Marital status of patient. Choose exactly one item from the list, each item equally likely. realistic statuses.\",\n",
    "                       \"possible_values\":[\"Married\",\"Single\",\"Divorced\",\"Widowed\",\"Separated\",\"Other\"]},\n",
    "    \"Insurance_Type\": {\"description\": \"Expected source of payment. Choose exactly one item from the list, each item equally likely. realistic insurance types.\",\n",
    "                       \"possible_values\":[\"Private\",\"Medicare\",\"Medicaid\",\"Self-pay\",\"Other\",\"Tricare\",\"VA\"]},\n",
    "    \"Chief_Complaint\": {\"description\": \"Patient’s main reason for visit. Choose exactly one item from the list, each item equally likely. realistic complaints.\",\n",
    "                        \"example_values\":[\n",
    "                            \"Fever and cough\",\"Sore throat\",\"Shortness of breath\",\"Chest pain\",\"Abdominal pain\",\n",
    "                            \"Back pain\",\"Headache\",\"Dizziness\",\"Rash and itching\",\"Joint pain\",\"Swelling in legs\",\n",
    "                            \"Fatigue\",\"Medication refill\",\"Routine check-up\",\"Post-surgery follow-up\",\n",
    "                            \"Annual physical\",\"Prenatal check\",\"Postpartum check\",\"Skin lesion evaluation\",\n",
    "                            \"Eye irritation\",\"Ear pain\",\"Nausea and vomiting\",\"Diarrhea\",\"Urinary burning\",\n",
    "                            \"Weight loss\",\"Insomnia\",\"Memory loss\",\"Anxiety and depression\",\"Allergic reaction\",\n",
    "                            \"Blood pressure check\",\"Diabetes management\",\"Heart palpitations\",\"Cold symptoms\",\n",
    "                            \"Allergy symptoms\",\"Pain management consultation\",\"Smoking cessation counseling\",\n",
    "                            \"Wound infection\",\"Postoperative follow-up\",\"Dermatitis flare\",\n",
    "                            \"Vision changes\",\"Hearing loss\",\"Seizure episode\",\"Stroke evaluation\",\"Asthma exacerbation\",\n",
    "                            \"Abnormal lab result\",\"Pregnancy testing\",\"Vaccination consultation\",\"Medication side effect\"]},\n",
    "    \"Diagnosis_Code_Primary\": {\"description\": \"Primary diagnosis (ICD-10-CM code). Choose exactly one item from the list, each item equally likely. Choose exactly one item from the list, each item equally likely. \",\n",
    "                               \"example_values\":[\"G43.709\",\"M54.5\",\"R05\",\"L57.0\",\"I10\",\"E11.9\",\"J06.9\",\"K21.9\",\"N39.0\",\"F32.9\",\"H52.4\",\"M25.50\",\"R42\",\"R51\",\"E66.9\"]},\n",
    "    \"Diagnosis_Code_Secondary\": {\"description\": \"Secondary diagnosis (ICD-10-CM code). Choose exactly one item from the list, each item equally likely. Choose exactly one item from the list, each item equally likely. \",\n",
    "                                 \"example_values\":[\"Z00.00\",\"Z87.2\",\"M25.50\",\"R42\",\"E66.9\",\"Z79.899\",\"Z12.11\",\"M79.1\",\"R51\",\"F41.9\"]},\n",
    "    \"Diagnosis_Code_Tertiary\": {\"description\": \"Tertiary diagnosis (ICD-10-CM code). Choose exactly one item from the list, each item equally likely. Choose exactly one item from the list, each item equally likely. \",\n",
    "                                \"example_values\":[\"Z79.899\",\"Z12.11\",\"M79.1\",\"R51\",\"F41.9\",\"Z13.6\",\"Z00.129\",\"M54.2\",\"H91.90\"]},\n",
    "    \"Diagnosis_Status\": {\"description\": \"Status of diagnosis. Choose exactly one item from the list, each item equally likely.\",\"possible_values\":[\"new\",\"chronic\",\"acute\"]},\n",
    "    \"Procedure_Code\": {\"description\": \"Code of performed procedure (CPT/HCPCS). Choose exactly one item from the list, each item equally likely. Choose exactly one item from the list, each item equally likely. \",\n",
    "                       \"example_values\":[\"99213\",\"11102\",\"93000\",\"36415\",\"70450\",\"99214\",\"99203\",\"93010\",\"71020\",\"80053\"]},\n",
    "    \"Procedure_Description\": {\"description\": \"Description of procedure. Choose exactly one item from the list, each item equally likely. realistic procedures.\",\n",
    "                              \"example_values\":[\n",
    "                                  \"Tangential biopsy of skin lesion\",\"Routine physical exam\",\"EKG\",\"Blood draw\",\n",
    "                                  \"CT scan head\",\"MRI lumbar spine\",\"Colonoscopy screening\",\"Vaccination administration\",\n",
    "                                  \"Allergy testing\",\"Diabetes counseling session\",\"Prescription refill\",\"Physical therapy evaluation\",\n",
    "                                  \"Wound care\",\"Lumbar puncture\",\"Endoscopy\",\"Chest X-ray\",\"Urinalysis\",\"Cardiac stress test\",\n",
    "                                  \"Ultrasound abdomen\",\"Prenatal ultrasound\",\"Pap smear\",\"Vision screening\",\"Hearing test\",\n",
    "                                  \"Electrolyte panel\",\"Lipid panel\",\"Immunization review\",\"Behavioral health therapy session\",\n",
    "                                  \"Cognitive assessment\",\"Smoking cessation counseling\",\"Dietary counseling\",\"Pain management session\"]},\n",
    "    \"Medication_Name\": {\"description\": \"Drug name prescribed or continued. Choose exactly one item from the list, each item equally likely. realistic drug names.\",\n",
    "                        \"example_values\":[\"Amoxicillin\",\"Ibuprofen\",\"Tretinoin\",\"Lisinopril\",\"Metformin\",\"Omeprazole\",\"Albuterol\",\n",
    "                                          \"Hydrocortisone\",\"Sertraline\",\"Atorvastatin\",\"Levothyroxine\",\"Amlodipine\",\"Furosemide\"]},\n",
    "    \"Medication_Code\": {\"description\": \"Drug code (e.g., NDC, RxNorm). Choose exactly one item from the list, each item equally likely. Choose exactly one item from the list, each item equally likely. \",\n",
    "                        \"example_values\":[\"16781-0323-35\",\"00093-7421-10\",\"12345-6789-01\",\"00173-0721-01\"]},\n",
    "    \"Medication_Class\": {\"description\": \"Class of prescribed drug. Choose exactly one item from the list, each item equally likely. realistic classes.\",\n",
    "                         \"example_values\":[\"Opioid analgesics\",\"Non-opioid analgesics\",\"NSAID\",\"Antibiotic\",\"Antiviral\",\n",
    "                                           \"Antifungal\",\"Antidepressant\",\"Anxiolytic\",\"Antipsychotic\",\"Mood stabilizer\",\n",
    "                                           \"Antihypertensive\",\"Beta-blocker\",\"ACE inhibitor\",\"Diuretic\",\"Calcium channel blocker\",\n",
    "                                           \"Anticoagulant\",\"Antiplatelet\",\"Antidiabetic\",\"Insulin\",\"Hypoglycemic\",\n",
    "                                           \"Lipid-lowering agent\",\"Bronchodilator\",\"Corticosteroid\",\"Immunosuppressant\",\n",
    "                                           \"Vaccination\",\"Topical retinoid\",\"Topical steroid\",\"Eye drops\",\"Nasal spray\",\n",
    "                                           \"Inhaled corticosteroid\",\"Otic drops\",\"Proton pump inhibitor\",\"H2 blocker\",\n",
    "                                           \"Vitamin supplement\",\"Mineral supplement\",\"Herbal supplement\",\"Electrolyte replacement\",\n",
    "                                           \"Antiemetic\",\"Antihistamine\"]},\n",
    "    \"Medication_Count\": {\"description\": \"Number of medications prescribed at visit. Randomly pick a value between 0 and 30.\",\"range\":[0,30]},\n",
    "    \"Disposition\": {\"description\": \"Visit outcome. Choose exactly one item from the list, each item equally likely. realistic outcomes.\",\"possible_values\":[\"Follow-up scheduled\",\"Hospital admission\",\n",
    "                                                                    \"Referral given\",\"No follow-up\"]},\n",
    "    \"Vital_Type\": {\"description\": \"Type of vital recorded. Choose exactly one item from the list, each item equally likely. realistic types.\",\n",
    "                   \"example_values\":[\"Height\",\"Weight\",\"Blood Pressure\",\"Temperature\",\"Heart Rate\",\"Respiratory Rate\"]},\n",
    "    \"Vital_Value\": {\"description\": \"Measured value of vital sign. Choose exactly one item from the list, each item equally likely. realistic values.\",\n",
    "                    \"example_values\":[\"120/80\",\"138/84\",\"142/89\",\"36.7\",\"98.6\",\"72\",\"18\",\"160/100\",\"37.2\",\"95/60\"]},\n",
    "    \"Vital_Unit\": {\"description\": \"Unit of measurement. Choose exactly one item from the list, each item equally likely. realistic units.\",\"example_values\":[\"cm\",\"kg\",\"mmHg\",\"°C\",\"bpm\",\"breaths/min\"]},\n",
    "    \"Weight_Variable\": {\"description\": \"Sampling weight for national estimation. Randomly pick a value.\",\"range\":[0,1000000]},\n",
    "    \"Stratum\": {\"description\": \"Survey stratum identifier. Choose exactly one item from the list, each item equally likely. realistic stratum IDs.\",\"example_values\":[\"STR-200\"]},\n",
    "    \"PSU\": {\"description\": \"Primary sampling unit identifier. Choose exactly one item from the list, each item equally likely. realistic PSU IDs.\",\"example_values\":[\"PSU-100\"]}\n",
    "}"
   ]
  },
  {
   "cell_type": "markdown",
   "metadata": {
    "application/vnd.databricks.v1+cell": {
     "cellMetadata": {},
     "inputWidgets": {},
     "nuid": "5e076d10-8db1-4643-95f3-3767c2a90e95",
     "showTitle": false,
     "tableResultSettingsMap": {},
     "title": ""
    }
   },
   "source": [
    "#### Export Schema to JSON File\n",
    "- Saves the NAMCS schema dictionary as a JSON file to the specified volume path for use in subsequent data generation steps\n"
   ]
  },
  {
   "cell_type": "code",
   "execution_count": 0,
   "metadata": {
    "application/vnd.databricks.v1+cell": {
     "cellMetadata": {
      "byteLimit": 2048000,
      "rowLimit": 10000
     },
     "inputWidgets": {},
     "nuid": "14f867bc-3fe6-4219-979e-2c686df074a3",
     "showTitle": false,
     "tableResultSettingsMap": {},
     "title": ""
    }
   },
   "outputs": [],
   "source": [
    "import json\n",
    "\n",
    "namcs_schema_json_path = '/Volumes/mc/teva/files/namcs_schema3.json'\n",
    "\n",
    "with open(namcs_schema_json_path, 'w') as f:\n",
    "    f.write(json.dumps(namcs_schema_json))"
   ]
  },
  {
   "cell_type": "markdown",
   "metadata": {
    "application/vnd.databricks.v1+cell": {
     "cellMetadata": {},
     "inputWidgets": {},
     "nuid": "ccc72776-7a37-4988-9183-51549f70be74",
     "showTitle": false,
     "tableResultSettingsMap": {},
     "title": ""
    }
   },
   "source": [
    "#### Verify Schema File\n",
    "- Reads back the saved JSON schema file and displays it in a formatted view\n",
    "- Verifies the export was successful\n"
   ]
  },
  {
   "cell_type": "code",
   "execution_count": 0,
   "metadata": {
    "application/vnd.databricks.v1+cell": {
     "cellMetadata": {
      "byteLimit": 2048000,
      "rowLimit": 10000
     },
     "inputWidgets": {},
     "nuid": "454f57be-7327-4571-aaea-487f4ad9bdc7",
     "showTitle": false,
     "tableResultSettingsMap": {},
     "title": ""
    }
   },
   "outputs": [],
   "source": [
    "import json\n",
    "\n",
    "with open(namcs_schema_json_path, 'r') as f:\n",
    "    namcs_schema_json = json.load(f)\n",
    "\n",
    "print(json.dumps(namcs_schema_json, indent=2))"
   ]
  },
  {
   "cell_type": "markdown",
   "metadata": {
    "application/vnd.databricks.v1+cell": {
     "cellMetadata": {},
     "inputWidgets": {},
     "nuid": "ab5640a7-bb34-4591-b231-0e4db8b49728",
     "showTitle": false,
     "tableResultSettingsMap": {},
     "title": ""
    }
   },
   "source": [
    "#### Create Target Table for Synthetic Data\n",
    "- Creates (or replaces) the Delta table that will store the AI-generated synthetic NAMCS visit data in JSON format\n",
    "- Visit datetime is maintained as a separate column\n"
   ]
  },
  {
   "cell_type": "code",
   "execution_count": 0,
   "metadata": {
    "application/vnd.databricks.v1+cell": {
     "cellMetadata": {
      "byteLimit": 2048000,
      "implicitDf": true,
      "rowLimit": 10000
     },
     "inputWidgets": {},
     "nuid": "562291da-9463-4641-987f-435e06e1c327",
     "showTitle": false,
     "tableResultSettingsMap": {},
     "title": ""
    }
   },
   "outputs": [],
   "source": [
    "%sql\n",
    "CREATE OR REPLACE TABLE mc.teva.namcs_synthetic_json (\n",
    "    visit_datetime STRING,\n",
    "    visit_json VARIANT\n",
    ")\n",
    "USING DELTA;"
   ]
  },
  {
   "cell_type": "markdown",
   "metadata": {
    "application/vnd.databricks.v1+cell": {
     "cellMetadata": {},
     "inputWidgets": {},
     "nuid": "b8400f9b-0ec8-4279-8788-93b147d4779c",
     "showTitle": false,
     "tableResultSettingsMap": {},
     "title": ""
    }
   },
   "source": [
    "#### Clear Existing Data\n",
    "- Deletes all records from the synthetic data table to start fresh\n",
    "- Useful for regenerating data\n"
   ]
  },
  {
   "cell_type": "code",
   "execution_count": 0,
   "metadata": {
    "application/vnd.databricks.v1+cell": {
     "cellMetadata": {
      "byteLimit": 2048000,
      "implicitDf": true,
      "rowLimit": 10000
     },
     "inputWidgets": {},
     "nuid": "d47c330c-2ec4-4af4-9d1c-dda1bdc869c0",
     "showTitle": false,
     "tableResultSettingsMap": {},
     "title": ""
    }
   },
   "outputs": [],
   "source": [
    "%sql\n",
    "DELETE FROM mc.teva.namcs_synthetic_json"
   ]
  },
  {
   "cell_type": "markdown",
   "metadata": {
    "application/vnd.databricks.v1+cell": {
     "cellMetadata": {},
     "inputWidgets": {},
     "nuid": "c60a29e0-f91e-4681-8059-c6ade8749a17",
     "showTitle": false,
     "tableResultSettingsMap": {},
     "title": ""
    }
   },
   "source": [
    "#### Generate Reference Date Table\n",
    "- Creates a helper table containing year-month strings for all months in 2025\n",
    "- Used for date-based data generation\n"
   ]
  },
  {
   "cell_type": "code",
   "execution_count": 0,
   "metadata": {
    "application/vnd.databricks.v1+cell": {
     "cellMetadata": {
      "byteLimit": 2048000,
      "rowLimit": 10000
     },
     "inputWidgets": {},
     "nuid": "ed64bc48-88ba-4583-9cc9-0e02881a520e",
     "showTitle": false,
     "tableResultSettingsMap": {},
     "title": ""
    }
   },
   "outputs": [],
   "source": [
    "\n",
    "# Generate dates 2025-01 to 2025-12\n",
    "dates_2025 = [f\"2025-{month:02d}\" for month in range(1, 13)]\n",
    "\n",
    "# Convert to Spark DataFrame\n",
    "df_dates = spark.createDataFrame([(d,) for d in dates_2025], [\"visit_date\"])\n",
    "\n",
    "# Save as Delta table\n",
    "df_dates.write.format(\"delta\").option(\"mergeSchema\", \"true\").mode(\"overwrite\").saveAsTable(\"mc.teva.dates_2025\")"
   ]
  },
  {
   "cell_type": "markdown",
   "metadata": {
    "application/vnd.databricks.v1+cell": {
     "cellMetadata": {},
     "inputWidgets": {},
     "nuid": "b0c72371-cd05-44f2-b69f-e9bbb2db535a",
     "showTitle": false,
     "tableResultSettingsMap": {},
     "title": ""
    }
   },
   "source": [
    "#### Generate Synthetic Data with AI (Loop)\n",
    "- Iterates through each month in 2025 and uses Databricks Claude Sonnet 4 AI to generate 100 realistic patient visit records per month following the NAMCS schema\n",
    "- The AI is prompted to create diverse, randomized data\n"
   ]
  },
  {
   "cell_type": "code",
   "execution_count": 0,
   "metadata": {
    "application/vnd.databricks.v1+cell": {
     "cellMetadata": {
      "byteLimit": 2048000,
      "rowLimit": 10000
     },
     "inputWidgets": {},
     "nuid": "f762cf67-3346-4f7f-8ea6-12ba4ab8ffe8",
     "showTitle": false,
     "tableResultSettingsMap": {},
     "title": ""
    }
   },
   "outputs": [],
   "source": [
    "# Prepare list of visit dates for 2025 (one per day for realism)\n",
    "from time import sleep\n",
    "\n",
    "visit_dates_2025 = [f\"2025-{month:02d}\" for month in range(1, 13)]\n",
    "\n",
    "for visit_date in visit_dates_2025:\n",
    "    sql_query = f\"\"\"\n",
    "    INSERT INTO TABLE mc.teva.namcs_synthetic_json\n",
    "    WITH namcs_schema AS (\n",
    "      SELECT value as namcs_schema\n",
    "      FROM read_files('/Volumes/mc/teva/files/namcs_schema3.json', format => 'text')\n",
    "    )\n",
    "    SELECT\n",
    "      '{visit_date}' AS visit_datetime,\n",
    "      parse_json(ai_query(\n",
    "          \"databricks-claude-sonnet-4\",\n",
    "          \"given a patient visit on {visit_date}, generate 100 realistic visit data following this schema \" || namcs_schema || \n",
    "          \"when given examples expand on them to create new possible choices, Pick values randomly with equal chance.\"\n",
    "          \"pick one from the list **at random**\"\n",
    "          \"You have a tendency to generate always the same data - force yourself to avoid going to the same places \"\n",
    "          \"output json and nothing else, no backticks \"\n",
    "          \n",
    "      )) AS visit_json\n",
    "    FROM namcs_schema;\n",
    "    \"\"\"\n",
    "    # Execute the SQL\n",
    "    spark.sql(sql_query)"
   ]
  },
  {
   "cell_type": "markdown",
   "metadata": {
    "application/vnd.databricks.v1+cell": {
     "cellMetadata": {},
     "inputWidgets": {},
     "nuid": "ebdd2f41-4653-40c1-ab37-a2cda3665801",
     "showTitle": false,
     "tableResultSettingsMap": {},
     "title": ""
    }
   },
   "source": [
    "#### Generate Single Month Data (SQL Example)\n",
    "- Example SQL query showing how to generate synthetic data for a single month (December 2025 with 20 records)\n",
    "- Uses the AI query function\n"
   ]
  },
  {
   "cell_type": "code",
   "execution_count": 0,
   "metadata": {
    "application/vnd.databricks.v1+cell": {
     "cellMetadata": {
      "byteLimit": 2048000,
      "implicitDf": true,
      "rowLimit": 10000
     },
     "inputWidgets": {},
     "nuid": "fcd8985d-36da-4a4d-8981-2cfb784edfd3",
     "showTitle": false,
     "tableResultSettingsMap": {},
     "title": ""
    }
   },
   "outputs": [],
   "source": [
    "%sql\n",
    "WITH namcs_schema AS (\n",
    "  SELECT value as namcs_schema\n",
    "  FROM read_files('/Volumes/mc/teva/files/namcs_schema3.json', format => 'text')\n",
    ")\n",
    "INSERT INTO mc.teva.namcs_synthetic_json\n",
    "SELECT\n",
    "  '2025-12' as visit_date,\n",
    "  parse_json(ai_query(\n",
    "      \"databricks-claude-sonnet-4\",\n",
    "      \"given a patient visit on \" || visit_date || \", generate 20 realistic visit data following this schema \" || namcs_schema ||\n",
    "      \"when given examples expand on them to create new possible choices, Pick values randomly with equal chance.\"\n",
    "      \"pick one from the list **at random**\"\n",
    "      \"You have a tendency to generate always the same data - force yourself to avoid going to the same places \"\n",
    "      \"output json and nothing else, no backticks \"\n",
    "  )) AS visit_json\n",
    "FROM namcs_schema\n",
    "--CROSS JOIN mc.teva.dates_2025"
   ]
  },
  {
   "cell_type": "markdown",
   "metadata": {
    "application/vnd.databricks.v1+cell": {
     "cellMetadata": {},
     "inputWidgets": {},
     "nuid": "0e4e5549-838f-4eb9-b4ab-dd116396eb44",
     "showTitle": false,
     "tableResultSettingsMap": {},
     "title": ""
    }
   },
   "source": [
    "#### View Generated JSON Data\n",
    "- Displays the raw JSON data stored in the synthetic data table\n",
    "- Verifies generation was successful\n"
   ]
  },
  {
   "cell_type": "code",
   "execution_count": 0,
   "metadata": {
    "application/vnd.databricks.v1+cell": {
     "cellMetadata": {
      "byteLimit": 2048000,
      "implicitDf": true,
      "rowLimit": 10000
     },
     "inputWidgets": {},
     "nuid": "915b9646-37dc-478f-a7f1-188b5b1cdbc8",
     "showTitle": false,
     "tableResultSettingsMap": {
      "0": {
       "dataGridStateBlob": "{\"version\":1,\"tableState\":{\"columnPinning\":{\"left\":[\"#row_number#\"],\"right\":[]},\"columnSizing\":{},\"columnVisibility\":{}},\"settings\":{\"columns\":{}},\"syncTimestamp\":1758805273848}",
       "filterBlob": null,
       "queryPlanFiltersBlob": null,
       "tableResultIndex": 0
      }
     },
     "title": ""
    }
   },
   "outputs": [],
   "source": [
    "%sql\n",
    "select * from mc.teva.namcs_synthetic_json "
   ]
  },
  {
   "cell_type": "markdown",
   "metadata": {
    "application/vnd.databricks.v1+cell": {
     "cellMetadata": {},
     "inputWidgets": {},
     "nuid": "de90667d-990d-4996-9d36-e876f5f93037",
     "showTitle": false,
     "tableResultSettingsMap": {},
     "title": ""
    }
   },
   "source": [
    "#### View Date Reference Table\n",
    "- Displays the helper table containing all 2025 month strings\n"
   ]
  },
  {
   "cell_type": "code",
   "execution_count": 0,
   "metadata": {
    "application/vnd.databricks.v1+cell": {
     "cellMetadata": {
      "byteLimit": 2048000,
      "implicitDf": true,
      "rowLimit": 10000
     },
     "inputWidgets": {},
     "nuid": "2994cf88-905c-49a5-af70-1e353b5c7e1b",
     "showTitle": false,
     "tableResultSettingsMap": {},
     "title": ""
    }
   },
   "outputs": [],
   "source": [
    "%sql\n",
    "select * from mc.teva.dates_2025"
   ]
  },
  {
   "cell_type": "markdown",
   "metadata": {
    "application/vnd.databricks.v1+cell": {
     "cellMetadata": {},
     "inputWidgets": {},
     "nuid": "08a70a59-a05b-4d24-a5bc-bf0dd788c149",
     "showTitle": false,
     "tableResultSettingsMap": {},
     "title": ""
    }
   },
   "source": [
    "#### Filter Data (Keep Specific Months)\n",
    "- Removes data for all months except May, July, and October 2025 to reduce dataset size for testing/analysis\n"
   ]
  },
  {
   "cell_type": "code",
   "execution_count": 0,
   "metadata": {
    "application/vnd.databricks.v1+cell": {
     "cellMetadata": {
      "byteLimit": 2048000,
      "rowLimit": 10000
     },
     "inputWidgets": {},
     "nuid": "d1945085-b69f-4f3c-92ce-2cf9c812662f",
     "showTitle": false,
     "tableResultSettingsMap": {},
     "title": ""
    }
   },
   "outputs": [],
   "source": [
    "spark.sql(\"\"\"\n",
    "DELETE FROM mc.teva.namcs_synthetic_json\n",
    "WHERE visit_datetime NOT IN ('2025-05', '2025-07', '2025-10')\n",
    "\"\"\")"
   ]
  },
  {
   "cell_type": "markdown",
   "metadata": {
    "application/vnd.databricks.v1+cell": {
     "cellMetadata": {},
     "inputWidgets": {},
     "nuid": "ac3ef040-87ec-4a96-bc2f-3b6523d28df5",
     "showTitle": false,
     "tableResultSettingsMap": {},
     "title": ""
    }
   },
   "source": [
    "#### Generate DDL Schema with AI\n",
    "- Uses AI to automatically generate Spark SQL DDL (Data Definition Language) from the JSON schema\n",
    "- Infers appropriate Spark data types for each field\n"
   ]
  },
  {
   "cell_type": "code",
   "execution_count": 0,
   "metadata": {
    "application/vnd.databricks.v1+cell": {
     "cellMetadata": {
      "byteLimit": 2048000,
      "implicitDf": true,
      "rowLimit": 10000
     },
     "inputWidgets": {},
     "nuid": "f133c337-15f6-42b4-9944-c3334b10e7fb",
     "showTitle": false,
     "tableResultSettingsMap": {},
     "title": ""
    }
   },
   "outputs": [],
   "source": [
    "ddl_schema = spark.sql(\"\"\"\n",
    "WITH namcs_schema AS (\n",
    "  SELECT value as namcs_schema\n",
    "  FROM read_files('/Volumes/mc/teva/files/namcs_schema.json', format => 'text')\n",
    ")\n",
    "SELECT\n",
    "  ai_query(\n",
    "      \"databricks-claude-sonnet-4\",\n",
    "      \"generate valid spark DDL based on this json schema \" || namcs_schema || \n",
    "      \"output DDL string ONLY and NO CREATE STATEMENT, infer valid types according to spark types, no backticks\"\n",
    "  ) AS DDL_SCHEMA\n",
    "FROM namcs_schema\n",
    "\"\"\").collect()[0]['DDL_SCHEMA']"
   ]
  },
  {
   "cell_type": "markdown",
   "metadata": {
    "application/vnd.databricks.v1+cell": {
     "cellMetadata": {},
     "inputWidgets": {},
     "nuid": "c35192c0-910c-4ef2-9728-3d68d4599729",
     "showTitle": false,
     "tableResultSettingsMap": {},
     "title": ""
    }
   },
   "source": [
    "#### Display Generated DDL\n",
    "- Shows the AI-generated DDL schema string\n",
    "- Verifies the field types are correct\n"
   ]
  },
  {
   "cell_type": "code",
   "execution_count": 0,
   "metadata": {
    "application/vnd.databricks.v1+cell": {
     "cellMetadata": {
      "byteLimit": 2048000,
      "rowLimit": 10000
     },
     "inputWidgets": {},
     "nuid": "53b9e348-20db-4bfe-a4ff-2a6850f05c06",
     "showTitle": false,
     "tableResultSettingsMap": {},
     "title": ""
    }
   },
   "outputs": [],
   "source": [
    "display(ddl_schema)"
   ]
  },
  {
   "cell_type": "markdown",
   "metadata": {
    "application/vnd.databricks.v1+cell": {
     "cellMetadata": {},
     "inputWidgets": {},
     "nuid": "c2826810-f2f9-4a00-b4d3-b91b83194778",
     "showTitle": false,
     "tableResultSettingsMap": {},
     "title": ""
    }
   },
   "source": [
    "#### Manual DDL Schema Definition\n",
    "- Hardcoded DDL schema string with all field names and their Spark data types\n",
    "- Used as fallback if AI generation needs adjustment\n"
   ]
  },
  {
   "cell_type": "code",
   "execution_count": 0,
   "metadata": {
    "application/vnd.databricks.v1+cell": {
     "cellMetadata": {
      "byteLimit": 2048000,
      "rowLimit": 10000
     },
     "inputWidgets": {},
     "nuid": "9a4703d3-c6af-47c5-8acc-4eb63ce085c3",
     "showTitle": false,
     "tableResultSettingsMap": {},
     "title": ""
    }
   },
   "outputs": [],
   "source": [
    "ddl_schema = \"\"\"Visit_ID STRING,\\nVisit_DateTime TIMESTAMP,\\nFacility_ID STRING,\\nPhysician_Specialty STRING,\\nPatient_ID STRING,\\nPatient_Age INT,\\nPatient_Sex STRING,\\nPatient_Race STRING,\\nPatient_Ethnicity STRING,\\nMarital_Status STRING,\\nInsurance_Type STRING,\\nChief_Complaint STRING,\\nDiagnosis_Code_Primary STRING,\\nDiagnosis_Code_Secondary STRING,\\nDiagnosis_Code_Tertiary STRING,\\nDiagnosis_Status STRING,\\nProcedure_Code STRING,\\nProcedure_Description STRING,\\nMedication_Name STRING,\\nMedication_Code STRING,\\nMedication_Class STRING,\\nMedication_Count INT,\\nDisposition STRING,\\nVital_Type STRING,\\nVital_Value STRING,\\nVital_Unit STRING,\\nWeight_Variable DOUBLE,\\nStratum STRING,\\nPSU STRING\"\"\""
   ]
  },
  {
   "cell_type": "markdown",
   "metadata": {
    "application/vnd.databricks.v1+cell": {
     "cellMetadata": {},
     "inputWidgets": {},
     "nuid": "dc5a75b1-efe2-409a-8d94-a2bf6cfee69d",
     "showTitle": false,
     "tableResultSettingsMap": {},
     "title": ""
    }
   },
   "source": [
    "#### Define PySpark Schema Structure\n",
    "- Creates a PySpark StructType schema definition matching the JSON structure\n",
    "- Includes all fields with their appropriate data types (String, Integer, Double, etc.)\n"
   ]
  },
  {
   "cell_type": "code",
   "execution_count": 0,
   "metadata": {
    "application/vnd.databricks.v1+cell": {
     "cellMetadata": {
      "byteLimit": 2048000,
      "rowLimit": 10000
     },
     "inputWidgets": {},
     "nuid": "42b3c65d-1195-4609-afc0-e0646788e477",
     "showTitle": false,
     "tableResultSettingsMap": {},
     "title": ""
    }
   },
   "outputs": [],
   "source": [
    "from pyspark.sql.functions import from_json, col, explode\n",
    "from pyspark.sql.types import StructType, StructField, StringType, DoubleType, IntegerType, ArrayType\n",
    "\n",
    "\n",
    "# Define the schema for individual JSON records (based on your sample data)\n",
    "record_schema = StructType([\n",
    "    StructField(\"Chief_Complaint\", StringType(), True),\n",
    "    StructField(\"Diagnosis_Code_Primary\", StringType(), True),\n",
    "    StructField(\"Diagnosis_Code_Secondary\", StringType(), True),\n",
    "    StructField(\"Diagnosis_Code_Tertiary\", StringType(), True),\n",
    "    StructField(\"Diagnosis_Status\", StringType(), True),\n",
    "    StructField(\"Disposition\", StringType(), True),\n",
    "    StructField(\"Facility_ID\", StringType(), True),\n",
    "    StructField(\"Insurance_Type\", StringType(), True),\n",
    "    StructField(\"Marital_Status\", StringType(), True),\n",
    "    StructField(\"Medication_Class\", StringType(), True),\n",
    "    StructField(\"Medication_Code\", StringType(), True),\n",
    "    StructField(\"Medication_Count\", IntegerType(), True),\n",
    "    StructField(\"Medication_Name\", StringType(), True),\n",
    "    StructField(\"PSU\", StringType(), True),\n",
    "    StructField(\"Patient_Age\", IntegerType(), True),\n",
    "    StructField(\"Patient_Ethnicity\", StringType(), True),\n",
    "    StructField(\"Patient_ID\", StringType(), True),\n",
    "    StructField(\"Patient_Race\", StringType(), True),\n",
    "    StructField(\"Patient_Sex\", StringType(), True),\n",
    "    StructField(\"Physician_Specialty\", StringType(), True),\n",
    "    StructField(\"Procedure_Code\", StringType(), True),\n",
    "    StructField(\"Procedure_Description\", StringType(), True),\n",
    "    StructField(\"Stratum\", StringType(), True),\n",
    "    StructField(\"Visit_DateTime\", StringType(), True),\n",
    "    StructField(\"Visit_ID\", StringType(), True),\n",
    "    StructField(\"Vital_Type\", StringType(), True),\n",
    "    StructField(\"Vital_Unit\", StringType(), True),\n",
    "    StructField(\"Vital_Value\", StringType(), True),\n",
    "    StructField(\"Weight_Variable\", IntegerType(), True)\n",
    "])\n",
    "\n",
    "# Define the array schema (array of the record schema)\n",
    "array_schema = ArrayType(record_schema)\n"
   ]
  },
  {
   "cell_type": "markdown",
   "metadata": {
    "application/vnd.databricks.v1+cell": {
     "cellMetadata": {},
     "inputWidgets": {},
     "nuid": "1dae8592-6aa9-4f4e-b869-b95bb1174755",
     "showTitle": false,
     "tableResultSettingsMap": {},
     "title": ""
    }
   },
   "source": [
    "#### Parse and Flatten JSON Data\n",
    "- Reads the JSON data from the table and parses it using the defined schema\n",
    "- Explodes the array structure into individual records\n",
    "- Flattens it into individual visit records with all columns at the root level\n"
   ]
  },
  {
   "cell_type": "code",
   "execution_count": 0,
   "metadata": {
    "application/vnd.databricks.v1+cell": {
     "cellMetadata": {
      "byteLimit": 2048000,
      "rowLimit": 10000
     },
     "inputWidgets": {},
     "nuid": "d5be3a68-b57a-44e0-ac59-3570a43b8cc2",
     "showTitle": false,
     "tableResultSettingsMap": {},
     "title": ""
    }
   },
   "outputs": [],
   "source": [
    "# Load the table\n",
    "df = spark.table(\"mc.teva.namcs_synthetic_json\")\n",
    "\n",
    "# Parse the JSON array and explode it\n",
    "df_parsed = df.withColumn(\"visit_array\", from_json(col(\"visit_json\").cast(\"string\"), array_schema)) \\\n",
    "              .withColumn(\"visit\", explode(col(\"visit_array\"))) \\\n",
    "              .select(\n",
    "                  col(\"visit_datetime\").alias(\"visit_year_month\"),\n",
    "                  col(\"visit.*\")\n",
    "              )\n",
    "\n",
    "df_parsed.display()"
   ]
  },
  {
   "cell_type": "markdown",
   "metadata": {
    "application/vnd.databricks.v1+cell": {
     "cellMetadata": {},
     "inputWidgets": {},
     "nuid": "02bce2fa-a09a-4466-b068-f6e702eec1d8",
     "showTitle": false,
     "tableResultSettingsMap": {},
     "title": ""
    }
   },
   "source": [
    "#### Drop Existing Flat Table\n",
    "- Removes the flattened table if it exists\n",
    "- Prepares for recreation with fresh data\n"
   ]
  },
  {
   "cell_type": "code",
   "execution_count": 0,
   "metadata": {
    "application/vnd.databricks.v1+cell": {
     "cellMetadata": {
      "byteLimit": 2048000,
      "implicitDf": true,
      "rowLimit": 10000
     },
     "inputWidgets": {},
     "nuid": "64f65eaa-70ed-4e02-93b2-df23b5ab8b91",
     "showTitle": false,
     "tableResultSettingsMap": {},
     "title": ""
    }
   },
   "outputs": [],
   "source": [
    "%sql\n",
    "DROP TABLE IF EXISTS mc.teva.namcs_synthetic_flat"
   ]
  },
  {
   "cell_type": "markdown",
   "metadata": {
    "application/vnd.databricks.v1+cell": {
     "cellMetadata": {},
     "inputWidgets": {},
     "nuid": "05080705-08eb-4969-a9ca-2ae06a13599f",
     "showTitle": false,
     "tableResultSettingsMap": {},
     "title": ""
    }
   },
   "source": [
    "#### Verify Flattened Schema\n",
    "- Prints the schema of the flattened DataFrame\n",
    "- Verifies all fields were parsed correctly with proper data types\n"
   ]
  },
  {
   "cell_type": "code",
   "execution_count": 0,
   "metadata": {
    "application/vnd.databricks.v1+cell": {
     "cellMetadata": {
      "byteLimit": 2048000,
      "rowLimit": 10000
     },
     "inputWidgets": {},
     "nuid": "d6b769ae-cf57-4b9c-8b7d-0db0d46c3c26",
     "showTitle": false,
     "tableResultSettingsMap": {},
     "title": ""
    }
   },
   "outputs": [],
   "source": [
    "df_parsed.printSchema()"
   ]
  },
  {
   "cell_type": "markdown",
   "metadata": {
    "application/vnd.databricks.v1+cell": {
     "cellMetadata": {},
     "inputWidgets": {},
     "nuid": "4ae1a20a-359a-45dd-97ea-594d775defd7",
     "showTitle": false,
     "tableResultSettingsMap": {},
     "title": ""
    }
   },
   "source": [
    "#### Save Flattened Data to Delta Table\n",
    "- Writes the parsed and flattened DataFrame to a Delta table\n",
    "- Drops the duplicate Visit_DateTime column\n",
    "- Enables schema merging and overwrites any existing data\n"
   ]
  },
  {
   "cell_type": "code",
   "execution_count": 0,
   "metadata": {
    "application/vnd.databricks.v1+cell": {
     "cellMetadata": {
      "byteLimit": 2048000,
      "rowLimit": 10000
     },
     "inputWidgets": {},
     "nuid": "6e85ee47-2d67-470a-8d69-56a6e26dd8a3",
     "showTitle": false,
     "tableResultSettingsMap": {},
     "title": ""
    }
   },
   "outputs": [],
   "source": [
    "\n",
    "df_parsed.drop(\"Visit_DateTime\").write.option(\"mergeSchema\", \"true\").format(\"delta\").mode(\"overwrite\").saveAsTable(\"mc.teva.namcs_synthetic_flat\")"
   ]
  },
  {
   "cell_type": "markdown",
   "metadata": {
    "application/vnd.databricks.v1+cell": {
     "cellMetadata": {},
     "inputWidgets": {},
     "nuid": "2ea0fd1b-dc58-4ccb-94b5-aae42250b0c7",
     "showTitle": false,
     "tableResultSettingsMap": {},
     "title": ""
    }
   },
   "source": [
    "#### Alternative Parsing Method (Not Used)\n",
    "- Alternative approach to parse JSON using from_json with DDL string\n",
    "- Kept for reference but not actively used in the workflow\n"
   ]
  },
  {
   "cell_type": "code",
   "execution_count": 0,
   "metadata": {
    "application/vnd.databricks.v1+cell": {
     "cellMetadata": {
      "byteLimit": 2048000,
      "rowLimit": 10000
     },
     "inputWidgets": {},
     "nuid": "55648660-004a-4ac8-a1d2-4c46844918ed",
     "showTitle": false,
     "tableResultSettingsMap": {},
     "title": ""
    }
   },
   "outputs": [],
   "source": [
    "from pyspark.sql.functions import from_json, col\n",
    "from pyspark.sql.types import StructType, StructField, StringType, DoubleType\n",
    "\n",
    "df = spark.table(\"mc.teva.namcs_synthetic_json\")\n",
    "\n",
    "df_parsed = df.withColumn(\"visit\", from_json(col(\"visit_json\").cast(\"string\"), ddl_schema))\\\n",
    "              .select(\n",
    "                  \"visit_datetime\",\n",
    "                  col(\"visit.*\")\n",
    "              ).drop(\"Visit_DateTime\")\n",
    "\n",
    "df_parsed.display()"
   ]
  }
 ],
 "metadata": {
  "application/vnd.databricks.v1+notebook": {
   "computePreferences": {
    "hardware": {
     "accelerator": null,
     "gpuPoolId": null,
     "memory": null
    }
   },
   "dashboards": [],
   "environmentMetadata": {
    "base_environment": "",
    "environment_version": "3"
   },
   "inputWidgetPreferences": null,
   "language": "python",
   "notebookMetadata": {
    "mostRecentlyExecutedCommandWithImplicitDF": {
     "commandId": 6506409081372065,
     "dataframes": [
      "_sqldf"
     ]
    },
    "pythonIndentUnit": 2
   },
   "notebookName": "data_prep_commented",
   "widgets": {}
  },
  "language_info": {
   "name": "python"
  }
 },
 "nbformat": 4,
 "nbformat_minor": 0
}
